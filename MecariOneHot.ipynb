{
  "nbformat": 4,
  "nbformat_minor": 0,
  "metadata": {
    "colab": {
      "name": "Copy of Mercariahihi",
      "provenance": [],
      "collapsed_sections": [],
      "authorship_tag": "ABX9TyPTk6scdQQlbD15av7ucVJu",
      "include_colab_link": true
    },
    "kernelspec": {
      "name": "python3",
      "display_name": "Python 3"
    },
    "language_info": {
      "name": "python"
    }
  },
  "cells": [
    {
      "cell_type": "markdown",
      "metadata": {
        "id": "view-in-github",
        "colab_type": "text"
      },
      "source": [
        "<a href=\"https://colab.research.google.com/github/thephann/Mercari-Price-Suggestion-/blob/main/MecariOneHot.ipynb\" target=\"_parent\"><img src=\"https://colab.research.google.com/assets/colab-badge.svg\" alt=\"Open In Colab\"/></a>"
      ]
    },
    {
      "cell_type": "markdown",
      "metadata": {
        "id": "bSr8Uf0a_Ksc"
      },
      "source": [
        "**Các thư viện cần thiết**"
      ]
    },
    {
      "cell_type": "code",
      "metadata": {
        "id": "v-kUWbizKiB4"
      },
      "source": [
        "import numpy as np\n",
        "import pandas as pd\n",
        "import matplotlib.pyplot as plt\n",
        "import seaborn as sns\n",
        "from sklearn.model_selection import train_test_split"
      ],
      "execution_count": null,
      "outputs": []
    },
    {
      "cell_type": "code",
      "metadata": {
        "colab": {
          "base_uri": "https://localhost:8080/"
        },
        "id": "vp2PHQbz7dEM",
        "outputId": "fba0326d-8fdf-4dc6-9f28-d97849819a2c"
      },
      "source": [
        "#Đọc file từ drive\n",
        "from google.colab import drive\n",
        "drive.mount(\"/content/drive\")"
      ],
      "execution_count": null,
      "outputs": [
        {
          "output_type": "stream",
          "text": [
            "Mounted at /content/drive\n"
          ],
          "name": "stdout"
        }
      ]
    },
    {
      "cell_type": "markdown",
      "metadata": {
        "id": "fiMAnrhN_gfm"
      },
      "source": [
        "**Tải dữ liệu traning**"
      ]
    },
    {
      "cell_type": "code",
      "metadata": {
        "colab": {
          "base_uri": "https://localhost:8080/",
          "height": 289
        },
        "id": "SURF9Run7mEG",
        "outputId": "326ef6ad-a78c-4e7d-b3d6-c50c6cc87334"
      },
      "source": [
        "#Dùng pandas để đọc dữ liệu\n",
        "train_data = pd.read_csv('/content/drive/My Drive/Datasets/Mercari/train.tsv',sep='\\t')\n",
        "train_data.head(5)"
      ],
      "execution_count": null,
      "outputs": [
        {
          "output_type": "execute_result",
          "data": {
            "text/html": [
              "<div>\n",
              "<style scoped>\n",
              "    .dataframe tbody tr th:only-of-type {\n",
              "        vertical-align: middle;\n",
              "    }\n",
              "\n",
              "    .dataframe tbody tr th {\n",
              "        vertical-align: top;\n",
              "    }\n",
              "\n",
              "    .dataframe thead th {\n",
              "        text-align: right;\n",
              "    }\n",
              "</style>\n",
              "<table border=\"1\" class=\"dataframe\">\n",
              "  <thead>\n",
              "    <tr style=\"text-align: right;\">\n",
              "      <th></th>\n",
              "      <th>train_id</th>\n",
              "      <th>name</th>\n",
              "      <th>item_condition_id</th>\n",
              "      <th>category_name</th>\n",
              "      <th>brand_name</th>\n",
              "      <th>price</th>\n",
              "      <th>shipping</th>\n",
              "      <th>item_description</th>\n",
              "    </tr>\n",
              "  </thead>\n",
              "  <tbody>\n",
              "    <tr>\n",
              "      <th>0</th>\n",
              "      <td>0</td>\n",
              "      <td>MLB Cincinnati Reds T Shirt Size XL</td>\n",
              "      <td>3</td>\n",
              "      <td>Men/Tops/T-shirts</td>\n",
              "      <td>NaN</td>\n",
              "      <td>10.0</td>\n",
              "      <td>1</td>\n",
              "      <td>No description yet</td>\n",
              "    </tr>\n",
              "    <tr>\n",
              "      <th>1</th>\n",
              "      <td>1</td>\n",
              "      <td>Razer BlackWidow Chroma Keyboard</td>\n",
              "      <td>3</td>\n",
              "      <td>Electronics/Computers &amp; Tablets/Components &amp; P...</td>\n",
              "      <td>Razer</td>\n",
              "      <td>52.0</td>\n",
              "      <td>0</td>\n",
              "      <td>This keyboard is in great condition and works ...</td>\n",
              "    </tr>\n",
              "    <tr>\n",
              "      <th>2</th>\n",
              "      <td>2</td>\n",
              "      <td>AVA-VIV Blouse</td>\n",
              "      <td>1</td>\n",
              "      <td>Women/Tops &amp; Blouses/Blouse</td>\n",
              "      <td>Target</td>\n",
              "      <td>10.0</td>\n",
              "      <td>1</td>\n",
              "      <td>Adorable top with a hint of lace and a key hol...</td>\n",
              "    </tr>\n",
              "    <tr>\n",
              "      <th>3</th>\n",
              "      <td>3</td>\n",
              "      <td>Leather Horse Statues</td>\n",
              "      <td>1</td>\n",
              "      <td>Home/Home Décor/Home Décor Accents</td>\n",
              "      <td>NaN</td>\n",
              "      <td>35.0</td>\n",
              "      <td>1</td>\n",
              "      <td>New with tags. Leather horses. Retail for [rm]...</td>\n",
              "    </tr>\n",
              "    <tr>\n",
              "      <th>4</th>\n",
              "      <td>4</td>\n",
              "      <td>24K GOLD plated rose</td>\n",
              "      <td>1</td>\n",
              "      <td>Women/Jewelry/Necklaces</td>\n",
              "      <td>NaN</td>\n",
              "      <td>44.0</td>\n",
              "      <td>0</td>\n",
              "      <td>Complete with certificate of authenticity</td>\n",
              "    </tr>\n",
              "  </tbody>\n",
              "</table>\n",
              "</div>"
            ],
            "text/plain": [
              "   train_id  ...                                   item_description\n",
              "0         0  ...                                 No description yet\n",
              "1         1  ...  This keyboard is in great condition and works ...\n",
              "2         2  ...  Adorable top with a hint of lace and a key hol...\n",
              "3         3  ...  New with tags. Leather horses. Retail for [rm]...\n",
              "4         4  ...          Complete with certificate of authenticity\n",
              "\n",
              "[5 rows x 8 columns]"
            ]
          },
          "metadata": {
            "tags": []
          },
          "execution_count": 3
        }
      ]
    },
    {
      "cell_type": "code",
      "metadata": {
        "colab": {
          "base_uri": "https://localhost:8080/",
          "height": 666
        },
        "id": "X02McuM_xKVC",
        "outputId": "721e2499-d818-4ef6-db99-14a12d1aa61c"
      },
      "source": [
        "import missingno as msno\n",
        "x = train_data.iloc[:]\n",
        "msno.bar(x)"
      ],
      "execution_count": null,
      "outputs": [
        {
          "output_type": "execute_result",
          "data": {
            "text/plain": [
              "<matplotlib.axes._subplots.AxesSubplot at 0x7ff0e36e8350>"
            ]
          },
          "metadata": {
            "tags": []
          },
          "execution_count": 4
        },
        {
          "output_type": "display_data",
          "data": {
            "image/png": "[encoded data removed]",
            "text/plain": [
              "<Figure size 1728x720 with 3 Axes>"
            ]
          },
          "metadata": {
            "tags": [],
            "needs_background": "light"
          }
        }
      ]
    },
    {
      "cell_type": "code",
      "metadata": {
        "colab": {
          "base_uri": "https://localhost:8080/"
        },
        "id": "mvEjFMah2sSP",
        "outputId": "b5117c00-a2b9-4c59-ffd3-c6ece0ff11ec"
      },
      "source": [
        "#Kiểm tra các giá trị null\n",
        "x.isna().sum()"
      ],
      "execution_count": null,
      "outputs": [
        {
          "output_type": "execute_result",
          "data": {
            "text/plain": [
              "train_id                  0\n",
              "name                      0\n",
              "item_condition_id         0\n",
              "category_name          6327\n",
              "brand_name           632682\n",
              "price                     0\n",
              "shipping                  0\n",
              "item_description          4\n",
              "dtype: int64"
            ]
          },
          "metadata": {
            "tags": []
          },
          "execution_count": 5
        }
      ]
    },
    {
      "cell_type": "code",
      "metadata": {
        "colab": {
          "base_uri": "https://localhost:8080/"
        },
        "id": "Z1jLGOEE7yTQ",
        "outputId": "b2bed40f-811a-4263-b224-68efa269a5ef"
      },
      "source": [
        "#Chia tập train thành tập train và validation với tỉ lệ tập validation là 0.1\n",
        "train_data = train_data[train_data['price'] > 0].reset_index(drop=True)\n",
        "train_data,validation_data=train_test_split(train_data,test_size=0.1,random_state=42)\n",
        "print(train_data.shape)\n",
        "print(validation_data.shape)"
      ],
      "execution_count": null,
      "outputs": [
        {
          "output_type": "stream",
          "text": [
            "(1333494, 8)\n",
            "(148167, 8)\n"
          ],
          "name": "stdout"
        }
      ]
    },
    {
      "cell_type": "code",
      "metadata": {
        "id": "LbuEdl4x72Ui"
      },
      "source": [
        "train = train_data.copy()\n",
        "valid = validation_data.copy()"
      ],
      "execution_count": null,
      "outputs": []
    },
    {
      "cell_type": "code",
      "metadata": {
        "id": "QEYYVhQ076XC"
      },
      "source": [
        "#Hàm chia category thành các sub category\n",
        "def split_categories(category):\n",
        "    try:\n",
        "      sub_category1,sub_category2,sub_category3 = category.split(\"/\")\n",
        "      return sub_category1,sub_category2,sub_category3\n",
        "    except:\n",
        "      return (\"No label\",\"No label\",\"No label\")\n",
        "\n",
        "def create_split_categories(data):\n",
        "    data['sub_category1'],data['sub_category2'],data['sub_category3']=zip(*data['category_name'].\\\n",
        "                                                                  apply(lambda x: split_categories(x)))\n",
        "\n",
        "#Hàm thay thế các giá trị null   \n",
        "def fill_missing_values(data):\n",
        "    data['category_name'].fillna('unknown_cat', inplace=True)\n",
        "    data['brand_name'].fillna('unknown_brand', inplace=True)\n",
        "    data['item_description'].fillna('unknown_description', inplace=True)\n",
        "    return data"
      ],
      "execution_count": null,
      "outputs": []
    },
    {
      "cell_type": "code",
      "metadata": {
        "colab": {
          "base_uri": "https://localhost:8080/",
          "height": 864
        },
        "id": "Ark5GzxF8AhY",
        "outputId": "c6ffd938-8530-4a5b-8078-35bd8ad4bf51"
      },
      "source": [
        "create_split_categories(train_data)\n",
        "create_split_categories(validation_data)\n",
        "\n",
        "fill_missing_values(train_data)\n",
        "fill_missing_values(validation_data)"
      ],
      "execution_count": null,
      "outputs": [
        {
          "output_type": "execute_result",
          "data": {
            "text/html": [
              "<div>\n",
              "<style scoped>\n",
              "    .dataframe tbody tr th:only-of-type {\n",
              "        vertical-align: middle;\n",
              "    }\n",
              "\n",
              "    .dataframe tbody tr th {\n",
              "        vertical-align: top;\n",
              "    }\n",
              "\n",
              "    .dataframe thead th {\n",
              "        text-align: right;\n",
              "    }\n",
              "</style>\n",
              "<table border=\"1\" class=\"dataframe\">\n",
              "  <thead>\n",
              "    <tr style=\"text-align: right;\">\n",
              "      <th></th>\n",
              "      <th>train_id</th>\n",
              "      <th>name</th>\n",
              "      <th>item_condition_id</th>\n",
              "      <th>category_name</th>\n",
              "      <th>brand_name</th>\n",
              "      <th>price</th>\n",
              "      <th>shipping</th>\n",
              "      <th>item_description</th>\n",
              "      <th>sub_category1</th>\n",
              "      <th>sub_category2</th>\n",
              "      <th>sub_category3</th>\n",
              "    </tr>\n",
              "  </thead>\n",
              "  <tbody>\n",
              "    <tr>\n",
              "      <th>639825</th>\n",
              "      <td>640169</td>\n",
              "      <td>Mickey Mouse Crop Top</td>\n",
              "      <td>4</td>\n",
              "      <td>Women/Tops &amp; Blouses/T-Shirts</td>\n",
              "      <td>Disney</td>\n",
              "      <td>6.0</td>\n",
              "      <td>1</td>\n",
              "      <td>white crop top. mickey mouse design on the fro...</td>\n",
              "      <td>Women</td>\n",
              "      <td>Tops &amp; Blouses</td>\n",
              "      <td>T-Shirts</td>\n",
              "    </tr>\n",
              "    <tr>\n",
              "      <th>506709</th>\n",
              "      <td>506976</td>\n",
              "      <td>Converse Shoreline Wm's Sneaker Sz 9</td>\n",
              "      <td>1</td>\n",
              "      <td>Women/Shoes/Fashion Sneakers</td>\n",
              "      <td>Converse</td>\n",
              "      <td>38.0</td>\n",
              "      <td>0</td>\n",
              "      <td>Chuck Taylor's Shoreline Women's Sneaker Size ...</td>\n",
              "      <td>Women</td>\n",
              "      <td>Shoes</td>\n",
              "      <td>Fashion Sneakers</td>\n",
              "    </tr>\n",
              "    <tr>\n",
              "      <th>1391997</th>\n",
              "      <td>1392815</td>\n",
              "      <td>Shellshell bundle</td>\n",
              "      <td>3</td>\n",
              "      <td>Kids/Girls (4+)/Other</td>\n",
              "      <td>unknown_brand</td>\n",
              "      <td>19.0</td>\n",
              "      <td>1</td>\n",
              "      <td>3 leotards as pictured</td>\n",
              "      <td>Kids</td>\n",
              "      <td>Girls (4+)</td>\n",
              "      <td>Other</td>\n",
              "    </tr>\n",
              "    <tr>\n",
              "      <th>805573</th>\n",
              "      <td>806019</td>\n",
              "      <td>Wallflower plugins</td>\n",
              "      <td>3</td>\n",
              "      <td>Home/Home Décor/Home Fragrance</td>\n",
              "      <td>Bath &amp; Body Works</td>\n",
              "      <td>13.0</td>\n",
              "      <td>1</td>\n",
              "      <td>Five of them</td>\n",
              "      <td>Home</td>\n",
              "      <td>Home Décor</td>\n",
              "      <td>Home Fragrance</td>\n",
              "    </tr>\n",
              "    <tr>\n",
              "      <th>669893</th>\n",
              "      <td>670253</td>\n",
              "      <td>New Nike Pros HOT PINK size M</td>\n",
              "      <td>2</td>\n",
              "      <td>Women/Athletic Apparel/Shorts</td>\n",
              "      <td>Nike</td>\n",
              "      <td>14.0</td>\n",
              "      <td>1</td>\n",
              "      <td>Bought for my daughter and they are too small ...</td>\n",
              "      <td>Women</td>\n",
              "      <td>Athletic Apparel</td>\n",
              "      <td>Shorts</td>\n",
              "    </tr>\n",
              "    <tr>\n",
              "      <th>...</th>\n",
              "      <td>...</td>\n",
              "      <td>...</td>\n",
              "      <td>...</td>\n",
              "      <td>...</td>\n",
              "      <td>...</td>\n",
              "      <td>...</td>\n",
              "      <td>...</td>\n",
              "      <td>...</td>\n",
              "      <td>...</td>\n",
              "      <td>...</td>\n",
              "      <td>...</td>\n",
              "    </tr>\n",
              "    <tr>\n",
              "      <th>835326</th>\n",
              "      <td>835783</td>\n",
              "      <td>Akai MPK mini MkII Usb Midi Keyboard</td>\n",
              "      <td>2</td>\n",
              "      <td>Other/Musical instruments/Keyboards</td>\n",
              "      <td>Akai</td>\n",
              "      <td>51.0</td>\n",
              "      <td>0</td>\n",
              "      <td>Barely used, in excellent condition</td>\n",
              "      <td>Other</td>\n",
              "      <td>Musical instruments</td>\n",
              "      <td>Keyboards</td>\n",
              "    </tr>\n",
              "    <tr>\n",
              "      <th>1317637</th>\n",
              "      <td>1318394</td>\n",
              "      <td>FREE SHIP WHITE BROWNING DECAL BUNDLE</td>\n",
              "      <td>1</td>\n",
              "      <td>Women/Women's Accessories/Other</td>\n",
              "      <td>Browning</td>\n",
              "      <td>3.0</td>\n",
              "      <td>1</td>\n",
              "      <td>Bundle for anyone! Ships TOMORROW! (Saturday) ...</td>\n",
              "      <td>Women</td>\n",
              "      <td>Women's Accessories</td>\n",
              "      <td>Other</td>\n",
              "    </tr>\n",
              "    <tr>\n",
              "      <th>510142</th>\n",
              "      <td>510413</td>\n",
              "      <td>Black sequin dress</td>\n",
              "      <td>1</td>\n",
              "      <td>Women/Dresses/Above Knee, Mini</td>\n",
              "      <td>unknown_brand</td>\n",
              "      <td>22.0</td>\n",
              "      <td>0</td>\n",
              "      <td>Brand-new sealed package Mardi gras Party Sequ...</td>\n",
              "      <td>Women</td>\n",
              "      <td>Dresses</td>\n",
              "      <td>Above Knee, Mini</td>\n",
              "    </tr>\n",
              "    <tr>\n",
              "      <th>1213839</th>\n",
              "      <td>1214539</td>\n",
              "      <td>TC Lularoe leggings fairy skeletons</td>\n",
              "      <td>2</td>\n",
              "      <td>Women/Jeans/Leggings</td>\n",
              "      <td>unknown_brand</td>\n",
              "      <td>35.0</td>\n",
              "      <td>1</td>\n",
              "      <td>TC, only tried on</td>\n",
              "      <td>Women</td>\n",
              "      <td>Jeans</td>\n",
              "      <td>Leggings</td>\n",
              "    </tr>\n",
              "    <tr>\n",
              "      <th>957938</th>\n",
              "      <td>958472</td>\n",
              "      <td>Bare Minerals light n10 powder</td>\n",
              "      <td>1</td>\n",
              "      <td>Beauty/Makeup/Face</td>\n",
              "      <td>bareMinerals</td>\n",
              "      <td>12.0</td>\n",
              "      <td>1</td>\n",
              "      <td>New</td>\n",
              "      <td>Beauty</td>\n",
              "      <td>Makeup</td>\n",
              "      <td>Face</td>\n",
              "    </tr>\n",
              "  </tbody>\n",
              "</table>\n",
              "<p>148167 rows × 11 columns</p>\n",
              "</div>"
            ],
            "text/plain": [
              "         train_id  ...     sub_category3\n",
              "639825     640169  ...          T-Shirts\n",
              "506709     506976  ...  Fashion Sneakers\n",
              "1391997   1392815  ...             Other\n",
              "805573     806019  ...    Home Fragrance\n",
              "669893     670253  ...            Shorts\n",
              "...           ...  ...               ...\n",
              "835326     835783  ...         Keyboards\n",
              "1317637   1318394  ...             Other\n",
              "510142     510413  ...  Above Knee, Mini\n",
              "1213839   1214539  ...          Leggings\n",
              "957938     958472  ...              Face\n",
              "\n",
              "[148167 rows x 11 columns]"
            ]
          },
          "metadata": {
            "tags": []
          },
          "execution_count": 9
        }
      ]
    },
    {
      "cell_type": "markdown",
      "metadata": {
        "id": "pyDppH7F_s1h"
      },
      "source": [
        "**Tải dữ liệu testing**"
      ]
    },
    {
      "cell_type": "code",
      "metadata": {
        "id": "6I5MFVwO8Gkn"
      },
      "source": [
        "test_data = pd.read_csv('/content/drive/My Drive/Datasets/Mercari/test_stg2.tsv',sep='\\t')\n",
        "test = test_data.copy()"
      ],
      "execution_count": null,
      "outputs": []
    },
    {
      "cell_type": "code",
      "metadata": {
        "colab": {
          "base_uri": "https://localhost:8080/",
          "height": 272
        },
        "id": "goWD97iz8SmC",
        "outputId": "74a4540f-fc71-4388-8110-f96e352d9415"
      },
      "source": [
        "test_data.head(5)"
      ],
      "execution_count": null,
      "outputs": [
        {
          "output_type": "execute_result",
          "data": {
            "text/html": [
              "<div>\n",
              "<style scoped>\n",
              "    .dataframe tbody tr th:only-of-type {\n",
              "        vertical-align: middle;\n",
              "    }\n",
              "\n",
              "    .dataframe tbody tr th {\n",
              "        vertical-align: top;\n",
              "    }\n",
              "\n",
              "    .dataframe thead th {\n",
              "        text-align: right;\n",
              "    }\n",
              "</style>\n",
              "<table border=\"1\" class=\"dataframe\">\n",
              "  <thead>\n",
              "    <tr style=\"text-align: right;\">\n",
              "      <th></th>\n",
              "      <th>test_id</th>\n",
              "      <th>name</th>\n",
              "      <th>item_condition_id</th>\n",
              "      <th>category_name</th>\n",
              "      <th>brand_name</th>\n",
              "      <th>shipping</th>\n",
              "      <th>item_description</th>\n",
              "    </tr>\n",
              "  </thead>\n",
              "  <tbody>\n",
              "    <tr>\n",
              "      <th>0</th>\n",
              "      <td>0</td>\n",
              "      <td>Breast cancer \"I fight like a girl\" ring</td>\n",
              "      <td>1</td>\n",
              "      <td>Women/Jewelry/Rings</td>\n",
              "      <td>NaN</td>\n",
              "      <td>1</td>\n",
              "      <td>Size 7</td>\n",
              "    </tr>\n",
              "    <tr>\n",
              "      <th>1</th>\n",
              "      <td>1</td>\n",
              "      <td>25 pcs NEW 7.5\"x12\" Kraft Bubble Mailers</td>\n",
              "      <td>1</td>\n",
              "      <td>Other/Office supplies/Shipping Supplies</td>\n",
              "      <td>NaN</td>\n",
              "      <td>1</td>\n",
              "      <td>25 pcs NEW 7.5\"x12\" Kraft Bubble Mailers Lined...</td>\n",
              "    </tr>\n",
              "    <tr>\n",
              "      <th>2</th>\n",
              "      <td>2</td>\n",
              "      <td>Coach bag</td>\n",
              "      <td>1</td>\n",
              "      <td>Vintage &amp; Collectibles/Bags and Purses/Handbag</td>\n",
              "      <td>Coach</td>\n",
              "      <td>1</td>\n",
              "      <td>Brand new coach bag. Bought for [rm] at a Coac...</td>\n",
              "    </tr>\n",
              "    <tr>\n",
              "      <th>3</th>\n",
              "      <td>3</td>\n",
              "      <td>Floral Kimono</td>\n",
              "      <td>2</td>\n",
              "      <td>Women/Sweaters/Cardigan</td>\n",
              "      <td>NaN</td>\n",
              "      <td>0</td>\n",
              "      <td>-floral kimono -never worn -lightweight and pe...</td>\n",
              "    </tr>\n",
              "    <tr>\n",
              "      <th>4</th>\n",
              "      <td>4</td>\n",
              "      <td>Life after Death</td>\n",
              "      <td>3</td>\n",
              "      <td>Other/Books/Religion &amp; Spirituality</td>\n",
              "      <td>NaN</td>\n",
              "      <td>1</td>\n",
              "      <td>Rediscovering life after the loss of a loved o...</td>\n",
              "    </tr>\n",
              "  </tbody>\n",
              "</table>\n",
              "</div>"
            ],
            "text/plain": [
              "   test_id  ...                                   item_description\n",
              "0        0  ...                                             Size 7\n",
              "1        1  ...  25 pcs NEW 7.5\"x12\" Kraft Bubble Mailers Lined...\n",
              "2        2  ...  Brand new coach bag. Bought for [rm] at a Coac...\n",
              "3        3  ...  -floral kimono -never worn -lightweight and pe...\n",
              "4        4  ...  Rediscovering life after the loss of a loved o...\n",
              "\n",
              "[5 rows x 7 columns]"
            ]
          },
          "metadata": {
            "tags": []
          },
          "execution_count": 11
        }
      ]
    },
    {
      "cell_type": "code",
      "metadata": {
        "colab": {
          "base_uri": "https://localhost:8080/",
          "height": 830
        },
        "id": "m58ZttDT8Tuc",
        "outputId": "6964e301-8a4a-4cfd-b6f6-5daafd32b742"
      },
      "source": [
        "create_split_categories(test_data)\n",
        "fill_missing_values(test_data)"
      ],
      "execution_count": null,
      "outputs": [
        {
          "output_type": "execute_result",
          "data": {
            "text/html": [
              "<div>\n",
              "<style scoped>\n",
              "    .dataframe tbody tr th:only-of-type {\n",
              "        vertical-align: middle;\n",
              "    }\n",
              "\n",
              "    .dataframe tbody tr th {\n",
              "        vertical-align: top;\n",
              "    }\n",
              "\n",
              "    .dataframe thead th {\n",
              "        text-align: right;\n",
              "    }\n",
              "</style>\n",
              "<table border=\"1\" class=\"dataframe\">\n",
              "  <thead>\n",
              "    <tr style=\"text-align: right;\">\n",
              "      <th></th>\n",
              "      <th>test_id</th>\n",
              "      <th>name</th>\n",
              "      <th>item_condition_id</th>\n",
              "      <th>category_name</th>\n",
              "      <th>brand_name</th>\n",
              "      <th>shipping</th>\n",
              "      <th>item_description</th>\n",
              "      <th>sub_category1</th>\n",
              "      <th>sub_category2</th>\n",
              "      <th>sub_category3</th>\n",
              "    </tr>\n",
              "  </thead>\n",
              "  <tbody>\n",
              "    <tr>\n",
              "      <th>0</th>\n",
              "      <td>0</td>\n",
              "      <td>Breast cancer \"I fight like a girl\" ring</td>\n",
              "      <td>1</td>\n",
              "      <td>Women/Jewelry/Rings</td>\n",
              "      <td>unknown_brand</td>\n",
              "      <td>1</td>\n",
              "      <td>Size 7</td>\n",
              "      <td>Women</td>\n",
              "      <td>Jewelry</td>\n",
              "      <td>Rings</td>\n",
              "    </tr>\n",
              "    <tr>\n",
              "      <th>1</th>\n",
              "      <td>1</td>\n",
              "      <td>25 pcs NEW 7.5\"x12\" Kraft Bubble Mailers</td>\n",
              "      <td>1</td>\n",
              "      <td>Other/Office supplies/Shipping Supplies</td>\n",
              "      <td>unknown_brand</td>\n",
              "      <td>1</td>\n",
              "      <td>25 pcs NEW 7.5\"x12\" Kraft Bubble Mailers Lined...</td>\n",
              "      <td>Other</td>\n",
              "      <td>Office supplies</td>\n",
              "      <td>Shipping Supplies</td>\n",
              "    </tr>\n",
              "    <tr>\n",
              "      <th>2</th>\n",
              "      <td>2</td>\n",
              "      <td>Coach bag</td>\n",
              "      <td>1</td>\n",
              "      <td>Vintage &amp; Collectibles/Bags and Purses/Handbag</td>\n",
              "      <td>Coach</td>\n",
              "      <td>1</td>\n",
              "      <td>Brand new coach bag. Bought for [rm] at a Coac...</td>\n",
              "      <td>Vintage &amp; Collectibles</td>\n",
              "      <td>Bags and Purses</td>\n",
              "      <td>Handbag</td>\n",
              "    </tr>\n",
              "    <tr>\n",
              "      <th>3</th>\n",
              "      <td>3</td>\n",
              "      <td>Floral Kimono</td>\n",
              "      <td>2</td>\n",
              "      <td>Women/Sweaters/Cardigan</td>\n",
              "      <td>unknown_brand</td>\n",
              "      <td>0</td>\n",
              "      <td>-floral kimono -never worn -lightweight and pe...</td>\n",
              "      <td>Women</td>\n",
              "      <td>Sweaters</td>\n",
              "      <td>Cardigan</td>\n",
              "    </tr>\n",
              "    <tr>\n",
              "      <th>4</th>\n",
              "      <td>4</td>\n",
              "      <td>Life after Death</td>\n",
              "      <td>3</td>\n",
              "      <td>Other/Books/Religion &amp; Spirituality</td>\n",
              "      <td>unknown_brand</td>\n",
              "      <td>1</td>\n",
              "      <td>Rediscovering life after the loss of a loved o...</td>\n",
              "      <td>Other</td>\n",
              "      <td>Books</td>\n",
              "      <td>Religion &amp; Spirituality</td>\n",
              "    </tr>\n",
              "    <tr>\n",
              "      <th>...</th>\n",
              "      <td>...</td>\n",
              "      <td>...</td>\n",
              "      <td>...</td>\n",
              "      <td>...</td>\n",
              "      <td>...</td>\n",
              "      <td>...</td>\n",
              "      <td>...</td>\n",
              "      <td>...</td>\n",
              "      <td>...</td>\n",
              "      <td>...</td>\n",
              "    </tr>\n",
              "    <tr>\n",
              "      <th>3460720</th>\n",
              "      <td>3460720</td>\n",
              "      <td>DARK SAMPLE BYE FOUNDATION MOISTURIZER</td>\n",
              "      <td>1</td>\n",
              "      <td>Beauty/Fragrance/Women</td>\n",
              "      <td>unknown_brand</td>\n",
              "      <td>1</td>\n",
              "      <td>It cosmetics Bye Bye Foundation Full Coverage ...</td>\n",
              "      <td>Beauty</td>\n",
              "      <td>Fragrance</td>\n",
              "      <td>Women</td>\n",
              "    </tr>\n",
              "    <tr>\n",
              "      <th>3460721</th>\n",
              "      <td>3460721</td>\n",
              "      <td>bundle for @brandystash</td>\n",
              "      <td>2</td>\n",
              "      <td>Women/Pants/Other</td>\n",
              "      <td>unknown_brand</td>\n",
              "      <td>1</td>\n",
              "      <td>♡2 pairs of omighty trackiez. one m and one s....</td>\n",
              "      <td>Women</td>\n",
              "      <td>Pants</td>\n",
              "      <td>Other</td>\n",
              "    </tr>\n",
              "    <tr>\n",
              "      <th>3460722</th>\n",
              "      <td>3460722</td>\n",
              "      <td>Toddler High-top Converse</td>\n",
              "      <td>3</td>\n",
              "      <td>Kids/Girls 0-24 Mos/Shoes</td>\n",
              "      <td>Nike</td>\n",
              "      <td>0</td>\n",
              "      <td>Size 5 (toddler). Pink high top converse shoes...</td>\n",
              "      <td>Kids</td>\n",
              "      <td>Girls 0-24 Mos</td>\n",
              "      <td>Shoes</td>\n",
              "    </tr>\n",
              "    <tr>\n",
              "      <th>3460723</th>\n",
              "      <td>3460723</td>\n",
              "      <td>Yoga Sling Sandals</td>\n",
              "      <td>1</td>\n",
              "      <td>Women/Shoes/Sandals</td>\n",
              "      <td>Sanuk</td>\n",
              "      <td>1</td>\n",
              "      <td>super super comfy. i have a pair but ordered t...</td>\n",
              "      <td>Women</td>\n",
              "      <td>Shoes</td>\n",
              "      <td>Sandals</td>\n",
              "    </tr>\n",
              "    <tr>\n",
              "      <th>3460724</th>\n",
              "      <td>3460724</td>\n",
              "      <td>Stylish ladies M/M insulated brown coat</td>\n",
              "      <td>3</td>\n",
              "      <td>Women/Coats &amp; Jackets/Other</td>\n",
              "      <td>unknown_brand</td>\n",
              "      <td>1</td>\n",
              "      <td>100% Genuine leather and faux fur insulated co...</td>\n",
              "      <td>Women</td>\n",
              "      <td>Coats &amp; Jackets</td>\n",
              "      <td>Other</td>\n",
              "    </tr>\n",
              "  </tbody>\n",
              "</table>\n",
              "<p>3460725 rows × 10 columns</p>\n",
              "</div>"
            ],
            "text/plain": [
              "         test_id  ...            sub_category3\n",
              "0              0  ...                    Rings\n",
              "1              1  ...        Shipping Supplies\n",
              "2              2  ...                  Handbag\n",
              "3              3  ...                 Cardigan\n",
              "4              4  ...  Religion & Spirituality\n",
              "...          ...  ...                      ...\n",
              "3460720  3460720  ...                    Women\n",
              "3460721  3460721  ...                    Other\n",
              "3460722  3460722  ...                    Shoes\n",
              "3460723  3460723  ...                  Sandals\n",
              "3460724  3460724  ...                    Other\n",
              "\n",
              "[3460725 rows x 10 columns]"
            ]
          },
          "metadata": {
            "tags": []
          },
          "execution_count": 12
        }
      ]
    },
    {
      "cell_type": "markdown",
      "metadata": {
        "id": "S5jYgCbA_2Y9"
      },
      "source": [
        "#**Phân tích dữ liệu**"
      ]
    },
    {
      "cell_type": "code",
      "metadata": {
        "id": "B-20krjhTP0B",
        "colab": {
          "base_uri": "https://localhost:8080/",
          "height": 498
        },
        "outputId": "09e8e5b0-4c8f-4469-c05e-8eed5c5b8560"
      },
      "source": [
        "#So sánh tỉ lệ item_condition_id giữa train và validation \n",
        "from collections import Counter\n",
        "\n",
        "train_cond_id = Counter(list(train_data['item_condition_id']))\n",
        "val_cond_id = Counter(list(validation_data['item_condition_id']))\n",
        "\n",
        "fig, (ax1,ax3) = plt.subplots(1,2, figsize=(15,8))\n",
        "\n",
        "ax1.bar(train_cond_id.keys(), train_cond_id.values(), width=0.2, align='edge', label='Train')\n",
        "ax1.set_xticks([1,2,3,4,5])\n",
        "ax1.set_xlabel('item_condition_id')\n",
        "ax1.legend()\n",
        "\n",
        "\n",
        "ax3.bar(val_cond_id.keys(), val_cond_id.values(), width=-0.2, align='edge', label='Val')\n",
        "ax3.set_xticks([1,2,3,4,5])\n",
        "ax3.set_xlabel('item_condition_id')\n",
        "ax3.legend()\n",
        "\n",
        "fig.show()"
      ],
      "execution_count": null,
      "outputs": [
        {
          "output_type": "display_data",
          "data": {
            "image/png": "[encoded data removed]",
            "text/plain": [
              "<Figure size 1080x576 with 2 Axes>"
            ]
          },
          "metadata": {
            "tags": [],
            "needs_background": "light"
          }
        }
      ]
    },
    {
      "cell_type": "markdown",
      "metadata": {
        "id": "4cBA9wXpBjTd"
      },
      "source": [
        "**Phân tích feature price**"
      ]
    },
    {
      "cell_type": "code",
      "metadata": {
        "colab": {
          "base_uri": "https://localhost:8080/",
          "height": 295
        },
        "id": "p771sXHxTV1x",
        "outputId": "09085263-86c7-44a6-e545-a454e9dc97cb"
      },
      "source": [
        "sns.kdeplot(data=train_data['price'])\n",
        "plt.title('Distribution of price')\n",
        "plt.grid(True)"
      ],
      "execution_count": null,
      "outputs": [
        {
          "output_type": "display_data",
          "data": {
            "image/png": "[encoded data removed]",
            "text/plain": [
              "<Figure size 432x288 with 1 Axes>"
            ]
          },
          "metadata": {
            "tags": [],
            "needs_background": "light"
          }
        }
      ]
    },
    {
      "cell_type": "code",
      "metadata": {
        "id": "Adhwfs5M06zt"
      },
      "source": [
        "#Đưa price về dạng phân phối chuẩn\n",
        "train_data['log_prices']= np.log(train_data['price']+1)\n",
        "validation_data['log_prices']= np.log(validation_data['price']+1)"
      ],
      "execution_count": null,
      "outputs": []
    },
    {
      "cell_type": "code",
      "metadata": {
        "colab": {
          "base_uri": "https://localhost:8080/",
          "height": 296
        },
        "id": "vxKp1WY98XvQ",
        "outputId": "97641389-31de-4d9d-cf29-554eaf05a2eb"
      },
      "source": [
        "train_data['log_prices']= np.log(train_data['price']+1)\n",
        "sns.kdeplot(data=train_data['log_prices'])\n",
        "plt.title(\"Distribution of Price variable\")\n",
        "plt.grid(True)"
      ],
      "execution_count": null,
      "outputs": [
        {
          "output_type": "display_data",
          "data": {
            "image/png": "[encoded data removed]",
            "text/plain": [
              "<Figure size 432x288 with 1 Axes>"
            ]
          },
          "metadata": {
            "tags": [],
            "needs_background": "light"
          }
        }
      ]
    },
    {
      "cell_type": "markdown",
      "metadata": {
        "id": "iYdRjEezBqNk"
      },
      "source": [
        "**Phân tích feature category name**"
      ]
    },
    {
      "cell_type": "code",
      "metadata": {
        "id": "9cSr0si7TcgT"
      },
      "source": [
        "train_category_name = Counter(list(train_data['category_name']))\n",
        "val_category_name = Counter(list(validation_data['category_name']))\n",
        "test_category_name = Counter(list(test_data['category_name']))"
      ],
      "execution_count": null,
      "outputs": []
    },
    {
      "cell_type": "code",
      "metadata": {
        "id": "RvIkxSfZTewg",
        "colab": {
          "base_uri": "https://localhost:8080/"
        },
        "outputId": "e5420110-cc25-4989-e02b-c2460446d291"
      },
      "source": [
        "print(\"Top 10 categories in train data: \")\n",
        "train_category_name.most_common(10)"
      ],
      "execution_count": null,
      "outputs": [
        {
          "output_type": "stream",
          "text": [
            "Top 10 categories in train data: \n"
          ],
          "name": "stdout"
        },
        {
          "output_type": "execute_result",
          "data": {
            "text/plain": [
              "[('Women/Athletic Apparel/Pants, Tights, Leggings', 54097),\n",
              " ('Women/Tops & Blouses/T-Shirts', 41708),\n",
              " ('Beauty/Makeup/Face', 30940),\n",
              " ('Beauty/Makeup/Lips', 26942),\n",
              " ('Electronics/Video Games & Consoles/Games', 23897),\n",
              " ('Beauty/Makeup/Eyes', 22610),\n",
              " ('Electronics/Cell Phones & Accessories/Cases, Covers & Skins', 22207),\n",
              " ('Women/Underwear/Bras', 19108),\n",
              " ('Women/Tops & Blouses/Tank, Cami', 18231),\n",
              " ('Women/Dresses/Above Knee, Mini', 18200)]"
            ]
          },
          "metadata": {
            "tags": []
          },
          "execution_count": 17
        }
      ]
    },
    {
      "cell_type": "code",
      "metadata": {
        "id": "qnFTM1_8Tf0Y",
        "colab": {
          "base_uri": "https://localhost:8080/"
        },
        "outputId": "9246bada-9cac-4144-9791-1a7f58928259"
      },
      "source": [
        "print(\"Top 10 categories in validation data: \")\n",
        "val_category_name.most_common(10)"
      ],
      "execution_count": null,
      "outputs": [
        {
          "output_type": "stream",
          "text": [
            "Top 10 categories in validation data: \n"
          ],
          "name": "stdout"
        },
        {
          "output_type": "execute_result",
          "data": {
            "text/plain": [
              "[('Women/Athletic Apparel/Pants, Tights, Leggings', 6055),\n",
              " ('Women/Tops & Blouses/T-Shirts', 4641),\n",
              " ('Beauty/Makeup/Face', 3380),\n",
              " ('Beauty/Makeup/Lips', 2959),\n",
              " ('Electronics/Video Games & Consoles/Games', 2650),\n",
              " ('Beauty/Makeup/Eyes', 2590),\n",
              " ('Electronics/Cell Phones & Accessories/Cases, Covers & Skins', 2461),\n",
              " ('Women/Underwear/Bras', 2146),\n",
              " ('Women/Tops & Blouses/Blouse', 2121),\n",
              " ('Women/Tops & Blouses/Tank, Cami', 2039)]"
            ]
          },
          "metadata": {
            "tags": []
          },
          "execution_count": 18
        }
      ]
    },
    {
      "cell_type": "code",
      "metadata": {
        "id": "ZmijQ9mCThhF",
        "colab": {
          "base_uri": "https://localhost:8080/"
        },
        "outputId": "02f1bcae-d9d1-487d-f0c9-f062c4909230"
      },
      "source": [
        "print(\"Top 10 categories in test data: \")\n",
        "test_category_name.most_common(10)"
      ],
      "execution_count": null,
      "outputs": [
        {
          "output_type": "stream",
          "text": [
            "Top 10 categories in test data: \n"
          ],
          "name": "stdout"
        },
        {
          "output_type": "execute_result",
          "data": {
            "text/plain": [
              "[('Women/Athletic Apparel/Pants, Tights, Leggings', 139412),\n",
              " ('Women/Tops & Blouses/T-Shirts', 108334),\n",
              " ('Beauty/Makeup/Face', 80054),\n",
              " ('Beauty/Makeup/Lips', 69655),\n",
              " ('Electronics/Video Games & Consoles/Games', 62577),\n",
              " ('Beauty/Makeup/Eyes', 59469),\n",
              " ('Electronics/Cell Phones & Accessories/Cases, Covers & Skins', 57443),\n",
              " ('Women/Underwear/Bras', 50008),\n",
              " ('Women/Tops & Blouses/Tank, Cami', 47785),\n",
              " ('Women/Tops & Blouses/Blouse', 47534)]"
            ]
          },
          "metadata": {
            "tags": []
          },
          "execution_count": 19
        }
      ]
    },
    {
      "cell_type": "markdown",
      "metadata": {
        "id": "uv0h4Rp8BuOI"
      },
      "source": [
        "**Phân tích feature brand name**"
      ]
    },
    {
      "cell_type": "code",
      "metadata": {
        "id": "gguWRlrfTjYb"
      },
      "source": [
        "train_brand_name = Counter(list(train_data['brand_name']))\n",
        "val_brand_name = Counter(list(validation_data['brand_name']))\n",
        "test_brand_name = Counter(list(test_data['brand_name']))"
      ],
      "execution_count": null,
      "outputs": []
    },
    {
      "cell_type": "code",
      "metadata": {
        "id": "xlNvJGUDTlgU",
        "colab": {
          "base_uri": "https://localhost:8080/"
        },
        "outputId": "582c97dc-573c-4778-df51-7068757b9a81"
      },
      "source": [
        "print(\"Top 10 brands in train data: \")\n",
        "train_brand_name.most_common(10)"
      ],
      "execution_count": null,
      "outputs": [
        {
          "output_type": "stream",
          "text": [
            "Top 10 brands in train data: \n"
          ],
          "name": "stdout"
        },
        {
          "output_type": "execute_result",
          "data": {
            "text/plain": [
              "[('unknown_brand', 569214),\n",
              " ('Nike', 48591),\n",
              " ('PINK', 48550),\n",
              " (\"Victoria's Secret\", 43196),\n",
              " ('LuLaRoe', 27861),\n",
              " ('Apple', 15556),\n",
              " ('FOREVER 21', 13655),\n",
              " ('Nintendo', 13454),\n",
              " ('Lululemon', 13109),\n",
              " ('Michael Kors', 12471)]"
            ]
          },
          "metadata": {
            "tags": []
          },
          "execution_count": 21
        }
      ]
    },
    {
      "cell_type": "code",
      "metadata": {
        "id": "YgHImSkBTocd",
        "colab": {
          "base_uri": "https://localhost:8080/"
        },
        "outputId": "3717c03c-a2ca-49d9-dadd-4b9fdf9805bd"
      },
      "source": [
        "print(\"Top 10 brands in validation data: \")\n",
        "val_brand_name.most_common(10)"
      ],
      "execution_count": null,
      "outputs": [
        {
          "output_type": "stream",
          "text": [
            "Top 10 brands in validation data: \n"
          ],
          "name": "stdout"
        },
        {
          "output_type": "execute_result",
          "data": {
            "text/plain": [
              "[('unknown_brand', 63122),\n",
              " ('PINK', 5522),\n",
              " ('Nike', 5415),\n",
              " (\"Victoria's Secret\", 4815),\n",
              " ('LuLaRoe', 3134),\n",
              " ('Apple', 1758),\n",
              " ('Nintendo', 1544),\n",
              " ('FOREVER 21', 1523),\n",
              " ('Michael Kors', 1445),\n",
              " ('Lululemon', 1441)]"
            ]
          },
          "metadata": {
            "tags": []
          },
          "execution_count": 22
        }
      ]
    },
    {
      "cell_type": "code",
      "metadata": {
        "id": "DTck4OL8TsTt",
        "colab": {
          "base_uri": "https://localhost:8080/"
        },
        "outputId": "36ca5174-ff6f-4fd6-9642-e20d7f7617bf"
      },
      "source": [
        "print(\"Top 10 brands in test data: \")\n",
        "test_brand_name.most_common(10)"
      ],
      "execution_count": null,
      "outputs": [
        {
          "output_type": "stream",
          "text": [
            "Top 10 brands in test data: \n"
          ],
          "name": "stdout"
        },
        {
          "output_type": "execute_result",
          "data": {
            "text/plain": [
              "[('unknown_brand', 1476490),\n",
              " ('Nike', 125749),\n",
              " ('PINK', 125712),\n",
              " (\"Victoria's Secret\", 112376),\n",
              " ('LuLaRoe', 72034),\n",
              " ('Apple', 40365),\n",
              " ('FOREVER 21', 35676),\n",
              " ('Nintendo', 35446),\n",
              " ('Lululemon', 34147),\n",
              " ('Michael Kors', 32078)]"
            ]
          },
          "metadata": {
            "tags": []
          },
          "execution_count": 23
        }
      ]
    },
    {
      "cell_type": "markdown",
      "metadata": {
        "id": "oRlcwBwZ_8AW"
      },
      "source": [
        "#**Xử lý dữ liệu**"
      ]
    },
    {
      "cell_type": "markdown",
      "metadata": {
        "id": "wex7JvTZB10b"
      },
      "source": [
        "**Làm sạch dữ liệu**"
      ]
    },
    {
      "cell_type": "code",
      "metadata": {
        "colab": {
          "base_uri": "https://localhost:8080/"
        },
        "id": "z7_yRuX28gJb",
        "outputId": "ec0dd498-cdca-48d3-e0bc-abb87f7ab9c6"
      },
      "source": [
        "import nltk\n",
        "nltk.download('stopwords')"
      ],
      "execution_count": null,
      "outputs": [
        {
          "output_type": "stream",
          "text": [
            "[nltk_data] Downloading package stopwords to /root/nltk_data...\n",
            "[nltk_data]   Unzipping corpora/stopwords.zip.\n"
          ],
          "name": "stdout"
        },
        {
          "output_type": "execute_result",
          "data": {
            "text/plain": [
              "True"
            ]
          },
          "metadata": {
            "tags": []
          },
          "execution_count": 13
        }
      ]
    },
    {
      "cell_type": "code",
      "metadata": {
        "id": "j0mCMZ7k8qA6"
      },
      "source": [
        "#Hàm loại bỏ stop words\n",
        "from nltk.corpus import stopwords\n",
        "\n",
        "stop = stopwords.words('english')\n",
        "\n",
        "def remove_stop_words(x):\n",
        "    x = ' '.join([i for i in x.lower().split(' ') if i not in stop])\n",
        "    return x"
      ],
      "execution_count": null,
      "outputs": []
    },
    {
      "cell_type": "code",
      "metadata": {
        "id": "wlAZUvw48nuS"
      },
      "source": [
        "train_data['item_description'] = train_data['item_description'].apply(remove_stop_words)\n",
        "validation_data['item_description'] = validation_data['item_description'].apply(remove_stop_words)\n",
        "test_data['item_description'] = test_data['item_description'].apply(remove_stop_words)"
      ],
      "execution_count": null,
      "outputs": []
    },
    {
      "cell_type": "code",
      "metadata": {
        "id": "GvycAWZH9rxx"
      },
      "source": [
        "#Hàm xử lý dữ liệu dạng text(đưa các từ viết tắt thành dạng thường ,loại bỏ ký tự đặc biệt, chuyển các từ in hóa thành in thường)\n",
        "\n",
        "from tqdm import tqdm\n",
        "import re\n",
        "\n",
        "def decontracted(phrase):\n",
        "    phrase = re.sub(r\"won't\", \"will not\", phrase)\n",
        "    phrase = re.sub(r\"can\\'t\", \"can not\", phrase)\n",
        "    phrase = re.sub(r\"n\\'t\", \" not\", phrase)\n",
        "    phrase = re.sub(r\"\\'re\", \" are\", phrase)\n",
        "    phrase = re.sub(r\"\\'s\", \" is\", phrase)\n",
        "    phrase = re.sub(r\"\\'d\", \" would\", phrase)\n",
        "    phrase = re.sub(r\"\\'ll\", \" will\", phrase)\n",
        "    phrase = re.sub(r\"\\'t\", \" not\", phrase)\n",
        "    phrase = re.sub(r\"\\'ve\", \" have\", phrase)\n",
        "    phrase = re.sub(r\"\\'m\", \" am\", phrase)\n",
        "    return phrase\n",
        "\n",
        "def text_preprocessing(text_col):\n",
        "  preprocessed_total = []\n",
        "  for sentence in tqdm(text_col.values):\n",
        "    sent = decontracted(sentence)\n",
        "    sent = sent.replace('\\\\r', ' ')\n",
        "    sent = sent.replace('\\\\\"', ' ')\n",
        "    sent = sent.replace('\\\\n', ' ')\n",
        "    sent = re.sub('[^A-Za-z0-9]+', ' ', sent)\n",
        "    preprocessed_total.append(sent.lower().strip())\n",
        "  return preprocessed_total"
      ],
      "execution_count": null,
      "outputs": []
    },
    {
      "cell_type": "code",
      "metadata": {
        "colab": {
          "base_uri": "https://localhost:8080/"
        },
        "id": "mtl3_2yZ9t2U",
        "outputId": "44903cd2-78d8-450d-f580-8ee57bb239d5"
      },
      "source": [
        "train_data['item_description']=text_preprocessing(train_data['item_description'])\n",
        "validation_data['item_description']=text_preprocessing(validation_data['item_description'])\n",
        "test_data['item_description']=text_preprocessing(test_data['item_description'])\n",
        "\n",
        "train_data['name']=text_preprocessing(train_data['name'])\n",
        "validation_data['name']=text_preprocessing(validation_data['name'])\n",
        "test_data['name']=text_preprocessing(test_data['name'])"
      ],
      "execution_count": null,
      "outputs": [
        {
          "output_type": "stream",
          "text": [
            "100%|██████████| 1333494/1333494 [00:27<00:00, 47728.77it/s]\n",
            "100%|██████████| 148167/148167 [00:03<00:00, 48472.27it/s]\n",
            "100%|██████████| 3460725/3460725 [01:12<00:00, 47749.01it/s]\n",
            "100%|██████████| 1333494/1333494 [00:20<00:00, 65427.93it/s]\n",
            "100%|██████████| 148167/148167 [00:02<00:00, 66104.21it/s]\n",
            "100%|██████████| 3460725/3460725 [00:51<00:00, 67204.53it/s]\n"
          ],
          "name": "stderr"
        }
      ]
    },
    {
      "cell_type": "code",
      "metadata": {
        "colab": {
          "base_uri": "https://localhost:8080/"
        },
        "id": "gAzGspwD_fzY",
        "outputId": "87c36551-d4fa-4fca-96f9-c57da45fbb28"
      },
      "source": [
        "print(train_data['item_description'].iloc[33],len(train_data['item_description'].iloc[33].split(' ')))\n",
        "print(train['item_description'].iloc[33],len(train['item_description'].iloc[33].split(' ')))"
      ],
      "execution_count": null,
      "outputs": [
        {
          "output_type": "stream",
          "text": [
            "100 brand new tags cotton brown infinity scarf forever 21 beige beanie hat 13\n",
            "100% Brand New with Tags Cotton On Brown Infinity Scarf Forever 21 Beige Beanie Hat 15\n"
          ],
          "name": "stdout"
        }
      ]
    },
    {
      "cell_type": "code",
      "metadata": {
        "id": "X9ZDVv67_yzx"
      },
      "source": [
        "#Hàm xử lý dữ liệu dạng category\n",
        "def clean_category(cate_col):\n",
        "    \n",
        "    \n",
        "\n",
        "    cate_list = []\n",
        "    for i in tqdm(cate_col.values):\n",
        "        i = re.sub('[^A-Za-z0-9]+', ' ', i)\n",
        "        i = i.replace(' ','')\n",
        "        i = i.replace('&','_')\n",
        "        cate_list.append(i.strip())\n",
        "    \n",
        "    return cate_list"
      ],
      "execution_count": null,
      "outputs": []
    },
    {
      "cell_type": "code",
      "metadata": {
        "colab": {
          "base_uri": "https://localhost:8080/"
        },
        "id": "i38kRS0d_1AB",
        "outputId": "11efbb60-2200-48da-e6c6-0c0d0efdb0a4"
      },
      "source": [
        "train_data['sub_category1'] = clean_category(train_data['sub_category1'])\n",
        "validation_data['sub_category1'] = clean_category(validation_data['sub_category1'])\n",
        "test_data['sub_category1'] = clean_category(test_data['sub_category1'])\n",
        "\n",
        "train_data['sub_category2'] = clean_category(train_data['sub_category2'])\n",
        "validation_data['sub_category2'] = clean_category(validation_data['sub_category2'])\n",
        "test_data['sub_category2'] = clean_category(test_data['sub_category2'])\n",
        "\n",
        "train_data['sub_category3'] = clean_category(train_data['sub_category3'])\n",
        "validation_data['sub_category3'] = clean_category(validation_data['sub_category3'])\n",
        "test_data['sub_category3'] = clean_category(test_data['sub_category3'])"
      ],
      "execution_count": null,
      "outputs": [
        {
          "output_type": "stream",
          "text": [
            "100%|██████████| 1333494/1333494 [00:02<00:00, 467448.69it/s]\n",
            "100%|██████████| 148167/148167 [00:00<00:00, 456919.73it/s]\n",
            "100%|██████████| 3460725/3460725 [00:07<00:00, 477670.19it/s]\n",
            "100%|██████████| 1333494/1333494 [00:03<00:00, 412258.22it/s]\n",
            "100%|██████████| 148167/148167 [00:00<00:00, 399879.44it/s]\n",
            "100%|██████████| 3460725/3460725 [00:08<00:00, 396920.71it/s]\n",
            "100%|██████████| 1333494/1333494 [00:03<00:00, 403255.53it/s]\n",
            "100%|██████████| 148167/148167 [00:00<00:00, 397228.89it/s]\n",
            "100%|██████████| 3460725/3460725 [00:08<00:00, 408001.91it/s]\n"
          ],
          "name": "stderr"
        }
      ]
    },
    {
      "cell_type": "code",
      "metadata": {
        "colab": {
          "base_uri": "https://localhost:8080/"
        },
        "id": "3pBnYxHE_8LI",
        "outputId": "289ce112-6dd4-4bfa-c2bf-b56e64ba6446"
      },
      "source": [
        "#Xử lý dữ liệu brand name \n",
        "train_data['brand_name'] = clean_category(train_data['brand_name'])\n",
        "validation_data['brand_name'] = clean_category(validation_data['brand_name'])\n",
        "test_data['brand_name'] = clean_category(test_data['brand_name'])"
      ],
      "execution_count": null,
      "outputs": [
        {
          "output_type": "stream",
          "text": [
            "100%|██████████| 1333494/1333494 [00:03<00:00, 390075.88it/s]\n",
            "100%|██████████| 148167/148167 [00:00<00:00, 393507.31it/s]\n",
            "100%|██████████| 3460725/3460725 [00:08<00:00, 397667.60it/s]\n"
          ],
          "name": "stderr"
        }
      ]
    },
    {
      "cell_type": "markdown",
      "metadata": {
        "id": "pXw1RjyFAQSX"
      },
      "source": [
        "**Vector hóa dữ liệu**"
      ]
    },
    {
      "cell_type": "code",
      "metadata": {
        "id": "cuqwX_3yARCi",
        "colab": {
          "base_uri": "https://localhost:8080/",
          "height": 281
        },
        "outputId": "17ebaae4-cd6f-46e6-f2f3-1ecb0c1db9d5"
      },
      "source": [
        "# #Sử dụng bag of words dựa vào CountVectorizer của thư viện sklearn để xử lý dữ liệu dạng category\n",
        "# from sklearn.feature_extraction.text import CountVectorizer\n",
        "\n",
        "# countvectorizer=CountVectorizer().fit(train_data['sub_category1'])                 \n",
        "# bow_cat1_train=countvectorizer.transform(train_data['sub_category1'])\n",
        "# bow_cat1_val=countvectorizer.transform(validation_data['sub_category1'])\n",
        "# bow_cat1_test=countvectorizer.transform(test_data['sub_category1'])\n",
        "\n",
        "# countvectorizer=CountVectorizer().fit(train_data['sub_category2'])   \n",
        "# bow_cat2_train=countvectorizer.transform(train_data['sub_category2'])\n",
        "# bow_cat2_val=countvectorizer.transform(validation_data['sub_category2'])\n",
        "# bow_cat2_test=countvectorizer.transform(test_data['sub_category2'])\n",
        "\n",
        "# countvectorizer=CountVectorizer().fit(train_data['sub_category3'])   \n",
        "# bow_cat3_train=countvectorizer.transform(train_data['sub_category3'])\n",
        "# bow_cat3_val=countvectorizer.transform(validation_data['sub_category3'])\n",
        "# bow_cat3_test=countvectorizer.transform(test_data['sub_category3'])\n",
        "\n",
        "train_data.head(3)"
      ],
      "execution_count": null,
      "outputs": [
        {
          "output_type": "execute_result",
          "data": {
            "text/html": [
              "<div>\n",
              "<style scoped>\n",
              "    .dataframe tbody tr th:only-of-type {\n",
              "        vertical-align: middle;\n",
              "    }\n",
              "\n",
              "    .dataframe tbody tr th {\n",
              "        vertical-align: top;\n",
              "    }\n",
              "\n",
              "    .dataframe thead th {\n",
              "        text-align: right;\n",
              "    }\n",
              "</style>\n",
              "<table border=\"1\" class=\"dataframe\">\n",
              "  <thead>\n",
              "    <tr style=\"text-align: right;\">\n",
              "      <th></th>\n",
              "      <th>train_id</th>\n",
              "      <th>name</th>\n",
              "      <th>item_condition_id</th>\n",
              "      <th>category_name</th>\n",
              "      <th>brand_name</th>\n",
              "      <th>price</th>\n",
              "      <th>shipping</th>\n",
              "      <th>item_description</th>\n",
              "      <th>sub_category1</th>\n",
              "      <th>sub_category2</th>\n",
              "      <th>sub_category3</th>\n",
              "      <th>log_prices</th>\n",
              "    </tr>\n",
              "  </thead>\n",
              "  <tbody>\n",
              "    <tr>\n",
              "      <th>816562</th>\n",
              "      <td>817013</td>\n",
              "      <td>american girl tlc doll lot of 4</td>\n",
              "      <td>5</td>\n",
              "      <td>Kids/Toys/Dolls &amp; Accessories</td>\n",
              "      <td>206</td>\n",
              "      <td>189.0</td>\n",
              "      <td>0</td>\n",
              "      <td>brown hair doll something side face see pic tr...</td>\n",
              "      <td>4</td>\n",
              "      <td>106</td>\n",
              "      <td>259</td>\n",
              "      <td>5.247024</td>\n",
              "    </tr>\n",
              "    <tr>\n",
              "      <th>209938</th>\n",
              "      <td>210050</td>\n",
              "      <td>nike running hoodie</td>\n",
              "      <td>2</td>\n",
              "      <td>Women/Sweaters/Hooded</td>\n",
              "      <td>2958</td>\n",
              "      <td>25.0</td>\n",
              "      <td>1</td>\n",
              "      <td>white size medium dri fit running hoodie excel...</td>\n",
              "      <td>10</td>\n",
              "      <td>97</td>\n",
              "      <td>406</td>\n",
              "      <td>3.258097</td>\n",
              "    </tr>\n",
              "    <tr>\n",
              "      <th>447076</th>\n",
              "      <td>447294</td>\n",
              "      <td>betsy johson purse</td>\n",
              "      <td>1</td>\n",
              "      <td>Women/Women's Handbags/Shoulder Bag</td>\n",
              "      <td>524</td>\n",
              "      <td>24.0</td>\n",
              "      <td>1</td>\n",
              "      <td>brand new never used perfect condition</td>\n",
              "      <td>10</td>\n",
              "      <td>112</td>\n",
              "      <td>689</td>\n",
              "      <td>3.218876</td>\n",
              "    </tr>\n",
              "  </tbody>\n",
              "</table>\n",
              "</div>"
            ],
            "text/plain": [
              "        train_id                             name  ...  sub_category3 log_prices\n",
              "816562    817013  american girl tlc doll lot of 4  ...            259   5.247024\n",
              "209938    210050              nike running hoodie  ...            406   3.258097\n",
              "447076    447294               betsy johson purse  ...            689   3.218876\n",
              "\n",
              "[3 rows x 12 columns]"
            ]
          },
          "metadata": {
            "tags": []
          },
          "execution_count": 25
        }
      ]
    },
    {
      "cell_type": "code",
      "metadata": {
        "id": "GGjjO1ID_X_Z"
      },
      "source": [
        "from sklearn.preprocessing import OneHotEncoder\n",
        "from sklearn.preprocessing import LabelEncoder\n",
        "from sklearn.compose import ColumnTransformer\n",
        "from sklearn.preprocessing import Normalizer\n",
        "\n",
        "le_brand=LabelEncoder()\n",
        "train_data['brand_name']=le_brand.fit_transform(train_data['brand_name'])\n",
        "le_sub1=LabelEncoder()\n",
        "train_data['sub_category1']=le_sub1.fit_transform(train_data['sub_category1'])\n",
        "le_sub2=LabelEncoder()\n",
        "train_data['sub_category2']=le_sub1.fit_transform(train_data['sub_category2'])\n",
        "le_sub3=LabelEncoder()\n",
        "train_data['sub_category3']=le_sub1.fit_transform(train_data['sub_category3'])"
      ],
      "execution_count": null,
      "outputs": []
    },
    {
      "cell_type": "code",
      "metadata": {
        "id": "xktZBYTB80GT"
      },
      "source": [
        "le_name=LabelEncoder()\n",
        "train_data['name']=le_name.fit_transform(train_data['name'])\n",
        "le_des=LabelEncoder()\n",
        "train_data['item_description']=le_des.fit_transform(train_data['item_description'])"
      ],
      "execution_count": null,
      "outputs": []
    },
    {
      "cell_type": "code",
      "metadata": {
        "colab": {
          "base_uri": "https://localhost:8080/",
          "height": 196
        },
        "id": "MCkPVkAB9Qga",
        "outputId": "d5b5294d-364f-4e40-c3be-2aee20025386"
      },
      "source": [
        "train_data.head(3)"
      ],
      "execution_count": null,
      "outputs": [
        {
          "output_type": "execute_result",
          "data": {
            "text/html": [
              "<div>\n",
              "<style scoped>\n",
              "    .dataframe tbody tr th:only-of-type {\n",
              "        vertical-align: middle;\n",
              "    }\n",
              "\n",
              "    .dataframe tbody tr th {\n",
              "        vertical-align: top;\n",
              "    }\n",
              "\n",
              "    .dataframe thead th {\n",
              "        text-align: right;\n",
              "    }\n",
              "</style>\n",
              "<table border=\"1\" class=\"dataframe\">\n",
              "  <thead>\n",
              "    <tr style=\"text-align: right;\">\n",
              "      <th></th>\n",
              "      <th>train_id</th>\n",
              "      <th>name</th>\n",
              "      <th>item_condition_id</th>\n",
              "      <th>category_name</th>\n",
              "      <th>brand_name</th>\n",
              "      <th>price</th>\n",
              "      <th>shipping</th>\n",
              "      <th>item_description</th>\n",
              "      <th>sub_category1</th>\n",
              "      <th>sub_category2</th>\n",
              "      <th>sub_category3</th>\n",
              "      <th>log_prices</th>\n",
              "    </tr>\n",
              "  </thead>\n",
              "  <tbody>\n",
              "    <tr>\n",
              "      <th>816562</th>\n",
              "      <td>817013</td>\n",
              "      <td>93454</td>\n",
              "      <td>5</td>\n",
              "      <td>Kids/Toys/Dolls &amp; Accessories</td>\n",
              "      <td>206</td>\n",
              "      <td>189.0</td>\n",
              "      <td>0</td>\n",
              "      <td>281224</td>\n",
              "      <td>4</td>\n",
              "      <td>106</td>\n",
              "      <td>259</td>\n",
              "      <td>5.247024</td>\n",
              "    </tr>\n",
              "    <tr>\n",
              "      <th>209938</th>\n",
              "      <td>210050</td>\n",
              "      <td>653743</td>\n",
              "      <td>2</td>\n",
              "      <td>Women/Sweaters/Hooded</td>\n",
              "      <td>2958</td>\n",
              "      <td>25.0</td>\n",
              "      <td>1</td>\n",
              "      <td>1080689</td>\n",
              "      <td>10</td>\n",
              "      <td>97</td>\n",
              "      <td>406</td>\n",
              "      <td>3.258097</td>\n",
              "    </tr>\n",
              "    <tr>\n",
              "      <th>447076</th>\n",
              "      <td>447294</td>\n",
              "      <td>138736</td>\n",
              "      <td>1</td>\n",
              "      <td>Women/Women's Handbags/Shoulder Bag</td>\n",
              "      <td>524</td>\n",
              "      <td>24.0</td>\n",
              "      <td>1</td>\n",
              "      <td>227188</td>\n",
              "      <td>10</td>\n",
              "      <td>112</td>\n",
              "      <td>689</td>\n",
              "      <td>3.218876</td>\n",
              "    </tr>\n",
              "  </tbody>\n",
              "</table>\n",
              "</div>"
            ],
            "text/plain": [
              "        train_id    name  ...  sub_category3 log_prices\n",
              "816562    817013   93454  ...            259   5.247024\n",
              "209938    210050  653743  ...            406   3.258097\n",
              "447076    447294  138736  ...            689   3.218876\n",
              "\n",
              "[3 rows x 12 columns]"
            ]
          },
          "metadata": {
            "tags": []
          },
          "execution_count": 29
        }
      ]
    },
    {
      "cell_type": "code",
      "metadata": {
        "colab": {
          "base_uri": "https://localhost:8080/",
          "height": 142
        },
        "id": "Hu6hZfOp-jn3",
        "outputId": "7898859e-faad-4ad0-dc67-143ee7b2e72d"
      },
      "source": [
        "train_data1=train_data.drop(['train_id','category_name','price','log_prices'],axis=1)\n",
        "train_data1.head(3)"
      ],
      "execution_count": null,
      "outputs": [
        {
          "output_type": "execute_result",
          "data": {
            "text/html": [
              "<div>\n",
              "<style scoped>\n",
              "    .dataframe tbody tr th:only-of-type {\n",
              "        vertical-align: middle;\n",
              "    }\n",
              "\n",
              "    .dataframe tbody tr th {\n",
              "        vertical-align: top;\n",
              "    }\n",
              "\n",
              "    .dataframe thead th {\n",
              "        text-align: right;\n",
              "    }\n",
              "</style>\n",
              "<table border=\"1\" class=\"dataframe\">\n",
              "  <thead>\n",
              "    <tr style=\"text-align: right;\">\n",
              "      <th></th>\n",
              "      <th>name</th>\n",
              "      <th>item_condition_id</th>\n",
              "      <th>brand_name</th>\n",
              "      <th>shipping</th>\n",
              "      <th>item_description</th>\n",
              "      <th>sub_category1</th>\n",
              "      <th>sub_category2</th>\n",
              "      <th>sub_category3</th>\n",
              "    </tr>\n",
              "  </thead>\n",
              "  <tbody>\n",
              "    <tr>\n",
              "      <th>816562</th>\n",
              "      <td>93454</td>\n",
              "      <td>5</td>\n",
              "      <td>206</td>\n",
              "      <td>0</td>\n",
              "      <td>281224</td>\n",
              "      <td>4</td>\n",
              "      <td>106</td>\n",
              "      <td>259</td>\n",
              "    </tr>\n",
              "    <tr>\n",
              "      <th>209938</th>\n",
              "      <td>653743</td>\n",
              "      <td>2</td>\n",
              "      <td>2958</td>\n",
              "      <td>1</td>\n",
              "      <td>1080689</td>\n",
              "      <td>10</td>\n",
              "      <td>97</td>\n",
              "      <td>406</td>\n",
              "    </tr>\n",
              "    <tr>\n",
              "      <th>447076</th>\n",
              "      <td>138736</td>\n",
              "      <td>1</td>\n",
              "      <td>524</td>\n",
              "      <td>1</td>\n",
              "      <td>227188</td>\n",
              "      <td>10</td>\n",
              "      <td>112</td>\n",
              "      <td>689</td>\n",
              "    </tr>\n",
              "  </tbody>\n",
              "</table>\n",
              "</div>"
            ],
            "text/plain": [
              "          name  item_condition_id  ...  sub_category2  sub_category3\n",
              "816562   93454                  5  ...            106            259\n",
              "209938  653743                  2  ...             97            406\n",
              "447076  138736                  1  ...            112            689\n",
              "\n",
              "[3 rows x 8 columns]"
            ]
          },
          "metadata": {
            "tags": []
          },
          "execution_count": 39
        }
      ]
    },
    {
      "cell_type": "code",
      "metadata": {
        "id": "deyJMl0QFOv6"
      },
      "source": [
        ""
      ],
      "execution_count": null,
      "outputs": []
    },
    {
      "cell_type": "code",
      "metadata": {
        "colab": {
          "base_uri": "https://localhost:8080/"
        },
        "id": "4t7JwUwWF4ME",
        "outputId": "3cfd2aa2-29b0-439a-ab3d-ad8de06957d0"
      },
      "source": [
        "train_data_onehot=trf1.fit_transform(train_data1)\n",
        "train_data_onehot"
      ],
      "execution_count": null,
      "outputs": [
        {
          "output_type": "execute_result",
          "data": {
            "text/plain": [
              "array([[0.00000000e+00, 0.00000000e+00, 0.00000000e+00, ...,\n",
              "        1.34977544e-05, 3.57690492e-04, 8.73979598e-04],\n",
              "       [0.00000000e+00, 1.00000000e+00, 0.00000000e+00, ...,\n",
              "        7.91738700e-06, 7.67986539e-05, 3.21445912e-04],\n",
              "       [1.00000000e+00, 0.00000000e+00, 0.00000000e+00, ...,\n",
              "        3.75656375e-05, 4.20735140e-04, 2.58827242e-03],\n",
              "       ...,\n",
              "       [1.00000000e+00, 0.00000000e+00, 0.00000000e+00, ...,\n",
              "        8.55275683e-06, 7.52642601e-05, 4.14808706e-04],\n",
              "       [0.00000000e+00, 1.00000000e+00, 0.00000000e+00, ...,\n",
              "        2.46355249e-06, 4.43439448e-05, 3.27652481e-04],\n",
              "       [0.00000000e+00, 1.00000000e+00, 0.00000000e+00, ...,\n",
              "        1.00242871e-05, 3.50850049e-05, 3.32806332e-04]])"
            ]
          },
          "metadata": {
            "tags": []
          },
          "execution_count": 41
        }
      ]
    },
    {
      "cell_type": "code",
      "metadata": {
        "colab": {
          "base_uri": "https://localhost:8080/",
          "height": 204
        },
        "id": "lYsMxKt1Hbpo",
        "outputId": "a833ebe7-e0e9-4682-d9ce-f65f2bca417a"
      },
      "source": [
        "pd.DataFrame(train_data_onehot).head()"
      ],
      "execution_count": null,
      "outputs": [
        {
          "output_type": "execute_result",
          "data": {
            "text/html": [
              "<div>\n",
              "<style scoped>\n",
              "    .dataframe tbody tr th:only-of-type {\n",
              "        vertical-align: middle;\n",
              "    }\n",
              "\n",
              "    .dataframe tbody tr th {\n",
              "        vertical-align: top;\n",
              "    }\n",
              "\n",
              "    .dataframe thead th {\n",
              "        text-align: right;\n",
              "    }\n",
              "</style>\n",
              "<table border=\"1\" class=\"dataframe\">\n",
              "  <thead>\n",
              "    <tr style=\"text-align: right;\">\n",
              "      <th></th>\n",
              "      <th>0</th>\n",
              "      <th>1</th>\n",
              "      <th>2</th>\n",
              "      <th>3</th>\n",
              "      <th>4</th>\n",
              "      <th>5</th>\n",
              "      <th>6</th>\n",
              "      <th>7</th>\n",
              "      <th>8</th>\n",
              "      <th>9</th>\n",
              "      <th>10</th>\n",
              "      <th>11</th>\n",
              "      <th>12</th>\n",
              "    </tr>\n",
              "  </thead>\n",
              "  <tbody>\n",
              "    <tr>\n",
              "      <th>0</th>\n",
              "      <td>0.0</td>\n",
              "      <td>0.0</td>\n",
              "      <td>0.0</td>\n",
              "      <td>0.0</td>\n",
              "      <td>1.0</td>\n",
              "      <td>1.0</td>\n",
              "      <td>0.0</td>\n",
              "      <td>0.315355</td>\n",
              "      <td>0.000695</td>\n",
              "      <td>0.948973</td>\n",
              "      <td>0.000013</td>\n",
              "      <td>0.000358</td>\n",
              "      <td>0.000874</td>\n",
              "    </tr>\n",
              "    <tr>\n",
              "      <th>1</th>\n",
              "      <td>0.0</td>\n",
              "      <td>1.0</td>\n",
              "      <td>0.0</td>\n",
              "      <td>0.0</td>\n",
              "      <td>0.0</td>\n",
              "      <td>0.0</td>\n",
              "      <td>1.0</td>\n",
              "      <td>0.517594</td>\n",
              "      <td>0.002342</td>\n",
              "      <td>0.855623</td>\n",
              "      <td>0.000008</td>\n",
              "      <td>0.000077</td>\n",
              "      <td>0.000321</td>\n",
              "    </tr>\n",
              "    <tr>\n",
              "      <th>2</th>\n",
              "      <td>1.0</td>\n",
              "      <td>0.0</td>\n",
              "      <td>0.0</td>\n",
              "      <td>0.0</td>\n",
              "      <td>0.0</td>\n",
              "      <td>0.0</td>\n",
              "      <td>1.0</td>\n",
              "      <td>0.521171</td>\n",
              "      <td>0.001968</td>\n",
              "      <td>0.853446</td>\n",
              "      <td>0.000038</td>\n",
              "      <td>0.000421</td>\n",
              "      <td>0.002588</td>\n",
              "    </tr>\n",
              "    <tr>\n",
              "      <th>3</th>\n",
              "      <td>1.0</td>\n",
              "      <td>0.0</td>\n",
              "      <td>0.0</td>\n",
              "      <td>0.0</td>\n",
              "      <td>0.0</td>\n",
              "      <td>0.0</td>\n",
              "      <td>1.0</td>\n",
              "      <td>0.725450</td>\n",
              "      <td>0.004987</td>\n",
              "      <td>0.688256</td>\n",
              "      <td>0.000011</td>\n",
              "      <td>0.000005</td>\n",
              "      <td>0.000609</td>\n",
              "    </tr>\n",
              "    <tr>\n",
              "      <th>4</th>\n",
              "      <td>1.0</td>\n",
              "      <td>0.0</td>\n",
              "      <td>0.0</td>\n",
              "      <td>0.0</td>\n",
              "      <td>0.0</td>\n",
              "      <td>1.0</td>\n",
              "      <td>0.0</td>\n",
              "      <td>0.552706</td>\n",
              "      <td>0.013879</td>\n",
              "      <td>0.833261</td>\n",
              "      <td>0.000024</td>\n",
              "      <td>0.000110</td>\n",
              "      <td>0.000941</td>\n",
              "    </tr>\n",
              "  </tbody>\n",
              "</table>\n",
              "</div>"
            ],
            "text/plain": [
              "    0    1    2    3    4   ...        8         9         10        11        12\n",
              "0  0.0  0.0  0.0  0.0  1.0  ...  0.000695  0.948973  0.000013  0.000358  0.000874\n",
              "1  0.0  1.0  0.0  0.0  0.0  ...  0.002342  0.855623  0.000008  0.000077  0.000321\n",
              "2  1.0  0.0  0.0  0.0  0.0  ...  0.001968  0.853446  0.000038  0.000421  0.002588\n",
              "3  1.0  0.0  0.0  0.0  0.0  ...  0.004987  0.688256  0.000011  0.000005  0.000609\n",
              "4  1.0  0.0  0.0  0.0  0.0  ...  0.013879  0.833261  0.000024  0.000110  0.000941\n",
              "\n",
              "[5 rows x 13 columns]"
            ]
          },
          "metadata": {
            "tags": []
          },
          "execution_count": 42
        }
      ]
    },
    {
      "cell_type": "markdown",
      "metadata": {
        "id": "UxKk4DirIWaN"
      },
      "source": [
        "**Xu ly val**"
      ]
    },
    {
      "cell_type": "code",
      "metadata": {
        "id": "OnRCRz0dHhUd"
      },
      "source": [
        "le_brand_val=LabelEncoder()\n",
        "validation_data['brand_name']=le_brand_val.fit_transform(validation_data['brand_name'])\n",
        "le_sub1_val=LabelEncoder()\n",
        "validation_data['sub_category1']=le_sub1_val.fit_transform(validation_data['sub_category1'])\n",
        "le_sub2_val=LabelEncoder()\n",
        "validation_data['sub_category2']=le_sub2_val.fit_transform(validation_data['sub_category2'])\n",
        "le_sub3_val=LabelEncoder()\n",
        "validation_data['sub_category3']=le_sub3_val.fit_transform(validation_data['sub_category3'])\n",
        "\n",
        "le_name_val=LabelEncoder()\n",
        "validation_data['name']=le_name_val.fit_transform(validation_data['name'])\n",
        "le_des_val=LabelEncoder()\n",
        "validation_data['item_description']=le_des_val.fit_transform(validation_data['item_description'])"
      ],
      "execution_count": null,
      "outputs": []
    },
    {
      "cell_type": "code",
      "metadata": {
        "colab": {
          "base_uri": "https://localhost:8080/",
          "height": 142
        },
        "id": "kAD6b299MJ9E",
        "outputId": "54662ff3-62fe-43d7-87a4-3bfbdc991a13"
      },
      "source": [
        "validation_data1=validation_data.drop(['train_id','category_name','price','log_prices'],axis=1)\n",
        "validation_data1.head(3)"
      ],
      "execution_count": null,
      "outputs": [
        {
          "output_type": "execute_result",
          "data": {
            "text/html": [
              "<div>\n",
              "<style scoped>\n",
              "    .dataframe tbody tr th:only-of-type {\n",
              "        vertical-align: middle;\n",
              "    }\n",
              "\n",
              "    .dataframe tbody tr th {\n",
              "        vertical-align: top;\n",
              "    }\n",
              "\n",
              "    .dataframe thead th {\n",
              "        text-align: right;\n",
              "    }\n",
              "</style>\n",
              "<table border=\"1\" class=\"dataframe\">\n",
              "  <thead>\n",
              "    <tr style=\"text-align: right;\">\n",
              "      <th></th>\n",
              "      <th>name</th>\n",
              "      <th>item_condition_id</th>\n",
              "      <th>brand_name</th>\n",
              "      <th>shipping</th>\n",
              "      <th>item_description</th>\n",
              "      <th>sub_category1</th>\n",
              "      <th>sub_category2</th>\n",
              "      <th>sub_category3</th>\n",
              "    </tr>\n",
              "  </thead>\n",
              "  <tbody>\n",
              "    <tr>\n",
              "      <th>639825</th>\n",
              "      <td>75255</td>\n",
              "      <td>4</td>\n",
              "      <td>631</td>\n",
              "      <td>1</td>\n",
              "      <td>125815</td>\n",
              "      <td>10</td>\n",
              "      <td>104</td>\n",
              "      <td>630</td>\n",
              "    </tr>\n",
              "    <tr>\n",
              "      <th>506709</th>\n",
              "      <td>31383</td>\n",
              "      <td>1</td>\n",
              "      <td>528</td>\n",
              "      <td>0</td>\n",
              "      <td>36459</td>\n",
              "      <td>10</td>\n",
              "      <td>88</td>\n",
              "      <td>252</td>\n",
              "    </tr>\n",
              "    <tr>\n",
              "      <th>1391997</th>\n",
              "      <td>105076</td>\n",
              "      <td>3</td>\n",
              "      <td>2337</td>\n",
              "      <td>1</td>\n",
              "      <td>5669</td>\n",
              "      <td>4</td>\n",
              "      <td>47</td>\n",
              "      <td>459</td>\n",
              "    </tr>\n",
              "  </tbody>\n",
              "</table>\n",
              "</div>"
            ],
            "text/plain": [
              "           name  item_condition_id  ...  sub_category2  sub_category3\n",
              "639825    75255                  4  ...            104            630\n",
              "506709    31383                  1  ...             88            252\n",
              "1391997  105076                  3  ...             47            459\n",
              "\n",
              "[3 rows x 8 columns]"
            ]
          },
          "metadata": {
            "tags": []
          },
          "execution_count": 44
        }
      ]
    },
    {
      "cell_type": "code",
      "metadata": {
        "colab": {
          "base_uri": "https://localhost:8080/"
        },
        "id": "6bBED9c1MTno",
        "outputId": "6fc88dba-a590-4b3c-ebd3-18cb5c4ab757"
      },
      "source": [
        "validation_data_onehot=trf1.fit_transform(validation_data1)\n",
        "validation_data_onehot"
      ],
      "execution_count": null,
      "outputs": [
        {
          "output_type": "execute_result",
          "data": {
            "text/plain": [
              "array([[0.00000000e+00, 0.00000000e+00, 0.00000000e+00, ...,\n",
              "        6.82096896e-05, 7.09380772e-04, 4.29721045e-03],\n",
              "       [1.00000000e+00, 0.00000000e+00, 0.00000000e+00, ...,\n",
              "        2.07860164e-04, 1.82916945e-03, 5.23807614e-03],\n",
              "       [0.00000000e+00, 0.00000000e+00, 1.00000000e+00, ...,\n",
              "        3.80026660e-05, 4.46531326e-04, 4.36080593e-03],\n",
              "       ...,\n",
              "       [1.00000000e+00, 0.00000000e+00, 0.00000000e+00, ...,\n",
              "        2.84913584e-04, 9.97197543e-04, 1.13965434e-04],\n",
              "       [0.00000000e+00, 1.00000000e+00, 0.00000000e+00, ...,\n",
              "        6.18507718e-05, 3.52549399e-04, 2.42455025e-03],\n",
              "       [1.00000000e+00, 0.00000000e+00, 0.00000000e+00, ...,\n",
              "        0.00000000e+00, 7.93145346e-04, 3.12222295e-03]])"
            ]
          },
          "metadata": {
            "tags": []
          },
          "execution_count": 45
        }
      ]
    },
    {
      "cell_type": "code",
      "metadata": {
        "colab": {
          "base_uri": "https://localhost:8080/",
          "height": 204
        },
        "id": "wENDwd0qMwD1",
        "outputId": "7cd408ca-1c7a-4552-c7da-be4850699845"
      },
      "source": [
        "pd.DataFrame(validation_data_onehot).head()"
      ],
      "execution_count": null,
      "outputs": [
        {
          "output_type": "execute_result",
          "data": {
            "text/html": [
              "<div>\n",
              "<style scoped>\n",
              "    .dataframe tbody tr th:only-of-type {\n",
              "        vertical-align: middle;\n",
              "    }\n",
              "\n",
              "    .dataframe tbody tr th {\n",
              "        vertical-align: top;\n",
              "    }\n",
              "\n",
              "    .dataframe thead th {\n",
              "        text-align: right;\n",
              "    }\n",
              "</style>\n",
              "<table border=\"1\" class=\"dataframe\">\n",
              "  <thead>\n",
              "    <tr style=\"text-align: right;\">\n",
              "      <th></th>\n",
              "      <th>0</th>\n",
              "      <th>1</th>\n",
              "      <th>2</th>\n",
              "      <th>3</th>\n",
              "      <th>4</th>\n",
              "      <th>5</th>\n",
              "      <th>6</th>\n",
              "      <th>7</th>\n",
              "      <th>8</th>\n",
              "      <th>9</th>\n",
              "      <th>10</th>\n",
              "      <th>11</th>\n",
              "      <th>12</th>\n",
              "    </tr>\n",
              "  </thead>\n",
              "  <tbody>\n",
              "    <tr>\n",
              "      <th>0</th>\n",
              "      <td>0.0</td>\n",
              "      <td>0.0</td>\n",
              "      <td>0.0</td>\n",
              "      <td>1.0</td>\n",
              "      <td>0.0</td>\n",
              "      <td>0.0</td>\n",
              "      <td>1.0</td>\n",
              "      <td>0.513312</td>\n",
              "      <td>0.004304</td>\n",
              "      <td>0.858180</td>\n",
              "      <td>0.000068</td>\n",
              "      <td>0.000709</td>\n",
              "      <td>0.004297</td>\n",
              "    </tr>\n",
              "    <tr>\n",
              "      <th>1</th>\n",
              "      <td>1.0</td>\n",
              "      <td>0.0</td>\n",
              "      <td>0.0</td>\n",
              "      <td>0.0</td>\n",
              "      <td>0.0</td>\n",
              "      <td>1.0</td>\n",
              "      <td>0.0</td>\n",
              "      <td>0.652328</td>\n",
              "      <td>0.010975</td>\n",
              "      <td>0.757837</td>\n",
              "      <td>0.000208</td>\n",
              "      <td>0.001829</td>\n",
              "      <td>0.005238</td>\n",
              "    </tr>\n",
              "    <tr>\n",
              "      <th>2</th>\n",
              "      <td>0.0</td>\n",
              "      <td>0.0</td>\n",
              "      <td>1.0</td>\n",
              "      <td>0.0</td>\n",
              "      <td>0.0</td>\n",
              "      <td>0.0</td>\n",
              "      <td>1.0</td>\n",
              "      <td>0.998292</td>\n",
              "      <td>0.022203</td>\n",
              "      <td>0.053859</td>\n",
              "      <td>0.000038</td>\n",
              "      <td>0.000447</td>\n",
              "      <td>0.004361</td>\n",
              "    </tr>\n",
              "    <tr>\n",
              "      <th>3</th>\n",
              "      <td>0.0</td>\n",
              "      <td>0.0</td>\n",
              "      <td>1.0</td>\n",
              "      <td>0.0</td>\n",
              "      <td>0.0</td>\n",
              "      <td>0.0</td>\n",
              "      <td>1.0</td>\n",
              "      <td>0.935601</td>\n",
              "      <td>0.001815</td>\n",
              "      <td>0.353045</td>\n",
              "      <td>0.000022</td>\n",
              "      <td>0.000403</td>\n",
              "      <td>0.002495</td>\n",
              "    </tr>\n",
              "    <tr>\n",
              "      <th>4</th>\n",
              "      <td>0.0</td>\n",
              "      <td>1.0</td>\n",
              "      <td>0.0</td>\n",
              "      <td>0.0</td>\n",
              "      <td>0.0</td>\n",
              "      <td>0.0</td>\n",
              "      <td>1.0</td>\n",
              "      <td>0.969221</td>\n",
              "      <td>0.018000</td>\n",
              "      <td>0.245438</td>\n",
              "      <td>0.000120</td>\n",
              "      <td>0.000060</td>\n",
              "      <td>0.006866</td>\n",
              "    </tr>\n",
              "  </tbody>\n",
              "</table>\n",
              "</div>"
            ],
            "text/plain": [
              "    0    1    2    3    4   ...        8         9         10        11        12\n",
              "0  0.0  0.0  0.0  1.0  0.0  ...  0.004304  0.858180  0.000068  0.000709  0.004297\n",
              "1  1.0  0.0  0.0  0.0  0.0  ...  0.010975  0.757837  0.000208  0.001829  0.005238\n",
              "2  0.0  0.0  1.0  0.0  0.0  ...  0.022203  0.053859  0.000038  0.000447  0.004361\n",
              "3  0.0  0.0  1.0  0.0  0.0  ...  0.001815  0.353045  0.000022  0.000403  0.002495\n",
              "4  0.0  1.0  0.0  0.0  0.0  ...  0.018000  0.245438  0.000120  0.000060  0.006866\n",
              "\n",
              "[5 rows x 13 columns]"
            ]
          },
          "metadata": {
            "tags": []
          },
          "execution_count": 46
        }
      ]
    },
    {
      "cell_type": "markdown",
      "metadata": {
        "id": "O7HZQ2TAM1BT"
      },
      "source": [
        "**Xu ly test**"
      ]
    },
    {
      "cell_type": "code",
      "metadata": {
        "id": "M9c8u-eBM2aq"
      },
      "source": [
        "le_brand_test=LabelEncoder()\n",
        "test_data['brand_name']=le_brand_test.fit_transform(test_data['brand_name'])\n",
        "le_sub1_test=LabelEncoder()\n",
        "test_data['sub_category1']=le_sub1_test.fit_transform(test_data['sub_category1'])\n",
        "le_sub2_test=LabelEncoder()\n",
        "test_data['sub_category2']=le_sub2_test.fit_transform(test_data['sub_category2'])\n",
        "le_sub3_test=LabelEncoder()\n",
        "test_data['sub_category3']=le_sub3_test.fit_transform(test_data['sub_category3'])\n",
        "\n",
        "le_name_test=LabelEncoder()\n",
        "test_data['name']=le_name_test.fit_transform(test_data['name'])\n",
        "le_des_test=LabelEncoder()\n",
        "test_data['item_description']=le_des_test.fit_transform(test_data['item_description'])"
      ],
      "execution_count": null,
      "outputs": []
    },
    {
      "cell_type": "code",
      "metadata": {
        "colab": {
          "base_uri": "https://localhost:8080/",
          "height": 142
        },
        "id": "uRQxsuWuNgcj",
        "outputId": "b2683ef1-df3a-4f7b-cd24-4d2afef798a1"
      },
      "source": [
        "test_data1=test_data.drop(['test_id','category_name'],axis=1)\n",
        "test_data1.head(3)"
      ],
      "execution_count": null,
      "outputs": [
        {
          "output_type": "execute_result",
          "data": {
            "text/html": [
              "<div>\n",
              "<style scoped>\n",
              "    .dataframe tbody tr th:only-of-type {\n",
              "        vertical-align: middle;\n",
              "    }\n",
              "\n",
              "    .dataframe tbody tr th {\n",
              "        vertical-align: top;\n",
              "    }\n",
              "\n",
              "    .dataframe thead th {\n",
              "        text-align: right;\n",
              "    }\n",
              "</style>\n",
              "<table border=\"1\" class=\"dataframe\">\n",
              "  <thead>\n",
              "    <tr style=\"text-align: right;\">\n",
              "      <th></th>\n",
              "      <th>name</th>\n",
              "      <th>item_condition_id</th>\n",
              "      <th>brand_name</th>\n",
              "      <th>shipping</th>\n",
              "      <th>item_description</th>\n",
              "      <th>sub_category1</th>\n",
              "      <th>sub_category2</th>\n",
              "      <th>sub_category3</th>\n",
              "    </tr>\n",
              "  </thead>\n",
              "  <tbody>\n",
              "    <tr>\n",
              "      <th>0</th>\n",
              "      <td>435147</td>\n",
              "      <td>1</td>\n",
              "      <td>5848</td>\n",
              "      <td>1</td>\n",
              "      <td>2304831</td>\n",
              "      <td>10</td>\n",
              "      <td>58</td>\n",
              "      <td>668</td>\n",
              "    </tr>\n",
              "    <tr>\n",
              "      <th>1</th>\n",
              "      <td>71901</td>\n",
              "      <td>1</td>\n",
              "      <td>5848</td>\n",
              "      <td>1</td>\n",
              "      <td>105065</td>\n",
              "      <td>7</td>\n",
              "      <td>72</td>\n",
              "      <td>703</td>\n",
              "    </tr>\n",
              "    <tr>\n",
              "      <th>2</th>\n",
              "      <td>555352</td>\n",
              "      <td>1</td>\n",
              "      <td>1211</td>\n",
              "      <td>1</td>\n",
              "      <td>513148</td>\n",
              "      <td>9</td>\n",
              "      <td>7</td>\n",
              "      <td>380</td>\n",
              "    </tr>\n",
              "  </tbody>\n",
              "</table>\n",
              "</div>"
            ],
            "text/plain": [
              "     name  item_condition_id  ...  sub_category2  sub_category3\n",
              "0  435147                  1  ...             58            668\n",
              "1   71901                  1  ...             72            703\n",
              "2  555352                  1  ...              7            380\n",
              "\n",
              "[3 rows x 8 columns]"
            ]
          },
          "metadata": {
            "tags": []
          },
          "execution_count": 50
        }
      ]
    },
    {
      "cell_type": "code",
      "metadata": {
        "colab": {
          "base_uri": "https://localhost:8080/"
        },
        "id": "hu-CTFEAN41r",
        "outputId": "afb8df16-6d8f-4f20-f364-865b5efe5cc0"
      },
      "source": [
        "test_data_onehot=trf1.fit_transform(test_data1)\n",
        "test_data_onehot"
      ],
      "execution_count": null,
      "outputs": [
        {
          "output_type": "execute_result",
          "data": {
            "text/plain": [
              "array([[1.00000000e+00, 0.00000000e+00, 0.00000000e+00, ...,\n",
              "        4.26338126e-06, 2.47276113e-05, 2.84793868e-04],\n",
              "       [1.00000000e+00, 0.00000000e+00, 0.00000000e+00, ...,\n",
              "        5.49241688e-05, 5.64934308e-04, 5.51595581e-03],\n",
              "       [1.00000000e+00, 0.00000000e+00, 0.00000000e+00, ...,\n",
              "        1.19026553e-05, 9.25762080e-06, 5.02556558e-04],\n",
              "       ...,\n",
              "       [0.00000000e+00, 0.00000000e+00, 1.00000000e+00, ...,\n",
              "        1.28499336e-06, 1.44561753e-05, 2.26801328e-04],\n",
              "       [1.00000000e+00, 0.00000000e+00, 0.00000000e+00, ...,\n",
              "        2.91209609e-06, 2.56264456e-05, 1.95984067e-04],\n",
              "       [0.00000000e+00, 0.00000000e+00, 1.00000000e+00, ...,\n",
              "        4.93716627e-06, 1.38240656e-05, 2.78456178e-04]])"
            ]
          },
          "metadata": {
            "tags": []
          },
          "execution_count": 51
        }
      ]
    },
    {
      "cell_type": "code",
      "metadata": {
        "colab": {
          "base_uri": "https://localhost:8080/",
          "height": 204
        },
        "id": "FGMn3pOwOAbK",
        "outputId": "4f07b0a9-8c35-48f6-ee9e-55f80d844b99"
      },
      "source": [
        "pd.DataFrame(test_data_onehot).head()"
      ],
      "execution_count": null,
      "outputs": [
        {
          "output_type": "execute_result",
          "data": {
            "text/html": [
              "<div>\n",
              "<style scoped>\n",
              "    .dataframe tbody tr th:only-of-type {\n",
              "        vertical-align: middle;\n",
              "    }\n",
              "\n",
              "    .dataframe tbody tr th {\n",
              "        vertical-align: top;\n",
              "    }\n",
              "\n",
              "    .dataframe thead th {\n",
              "        text-align: right;\n",
              "    }\n",
              "</style>\n",
              "<table border=\"1\" class=\"dataframe\">\n",
              "  <thead>\n",
              "    <tr style=\"text-align: right;\">\n",
              "      <th></th>\n",
              "      <th>0</th>\n",
              "      <th>1</th>\n",
              "      <th>2</th>\n",
              "      <th>3</th>\n",
              "      <th>4</th>\n",
              "      <th>5</th>\n",
              "      <th>6</th>\n",
              "      <th>7</th>\n",
              "      <th>8</th>\n",
              "      <th>9</th>\n",
              "      <th>10</th>\n",
              "      <th>11</th>\n",
              "      <th>12</th>\n",
              "    </tr>\n",
              "  </thead>\n",
              "  <tbody>\n",
              "    <tr>\n",
              "      <th>0</th>\n",
              "      <td>1.0</td>\n",
              "      <td>0.0</td>\n",
              "      <td>0.0</td>\n",
              "      <td>0.0</td>\n",
              "      <td>0.0</td>\n",
              "      <td>0.0</td>\n",
              "      <td>1.0</td>\n",
              "      <td>0.185520</td>\n",
              "      <td>0.002493</td>\n",
              "      <td>0.982637</td>\n",
              "      <td>0.000004</td>\n",
              "      <td>0.000025</td>\n",
              "      <td>0.000285</td>\n",
              "    </tr>\n",
              "    <tr>\n",
              "      <th>1</th>\n",
              "      <td>1.0</td>\n",
              "      <td>0.0</td>\n",
              "      <td>0.0</td>\n",
              "      <td>0.0</td>\n",
              "      <td>0.0</td>\n",
              "      <td>0.0</td>\n",
              "      <td>1.0</td>\n",
              "      <td>0.564158</td>\n",
              "      <td>0.045885</td>\n",
              "      <td>0.824373</td>\n",
              "      <td>0.000055</td>\n",
              "      <td>0.000565</td>\n",
              "      <td>0.005516</td>\n",
              "    </tr>\n",
              "    <tr>\n",
              "      <th>2</th>\n",
              "      <td>1.0</td>\n",
              "      <td>0.0</td>\n",
              "      <td>0.0</td>\n",
              "      <td>0.0</td>\n",
              "      <td>0.0</td>\n",
              "      <td>0.0</td>\n",
              "      <td>1.0</td>\n",
              "      <td>0.734463</td>\n",
              "      <td>0.001602</td>\n",
              "      <td>0.678647</td>\n",
              "      <td>0.000012</td>\n",
              "      <td>0.000009</td>\n",
              "      <td>0.000503</td>\n",
              "    </tr>\n",
              "    <tr>\n",
              "      <th>3</th>\n",
              "      <td>0.0</td>\n",
              "      <td>1.0</td>\n",
              "      <td>0.0</td>\n",
              "      <td>0.0</td>\n",
              "      <td>0.0</td>\n",
              "      <td>1.0</td>\n",
              "      <td>0.0</td>\n",
              "      <td>0.585163</td>\n",
              "      <td>0.004667</td>\n",
              "      <td>0.810902</td>\n",
              "      <td>0.000008</td>\n",
              "      <td>0.000077</td>\n",
              "      <td>0.000132</td>\n",
              "    </tr>\n",
              "    <tr>\n",
              "      <th>4</th>\n",
              "      <td>0.0</td>\n",
              "      <td>0.0</td>\n",
              "      <td>1.0</td>\n",
              "      <td>0.0</td>\n",
              "      <td>0.0</td>\n",
              "      <td>0.0</td>\n",
              "      <td>1.0</td>\n",
              "      <td>0.471774</td>\n",
              "      <td>0.002407</td>\n",
              "      <td>0.881716</td>\n",
              "      <td>0.000003</td>\n",
              "      <td>0.000006</td>\n",
              "      <td>0.000273</td>\n",
              "    </tr>\n",
              "  </tbody>\n",
              "</table>\n",
              "</div>"
            ],
            "text/plain": [
              "    0    1    2    3    4   ...        8         9         10        11        12\n",
              "0  1.0  0.0  0.0  0.0  0.0  ...  0.002493  0.982637  0.000004  0.000025  0.000285\n",
              "1  1.0  0.0  0.0  0.0  0.0  ...  0.045885  0.824373  0.000055  0.000565  0.005516\n",
              "2  1.0  0.0  0.0  0.0  0.0  ...  0.001602  0.678647  0.000012  0.000009  0.000503\n",
              "3  0.0  1.0  0.0  0.0  0.0  ...  0.004667  0.810902  0.000008  0.000077  0.000132\n",
              "4  0.0  0.0  1.0  0.0  0.0  ...  0.002407  0.881716  0.000003  0.000006  0.000273\n",
              "\n",
              "[5 rows x 13 columns]"
            ]
          },
          "metadata": {
            "tags": []
          },
          "execution_count": 52
        }
      ]
    },
    {
      "cell_type": "markdown",
      "metadata": {
        "id": "QI2mulDwB76i"
      },
      "source": [
        "#**Mô hình huấn luyện**"
      ]
    },
    {
      "cell_type": "markdown",
      "metadata": {
        "id": "E40qAaG4AY-X"
      },
      "source": [
        "**Linear regression**"
      ]
    },
    {
      "cell_type": "code",
      "metadata": {
        "id": "p6KnmjvKK9zP"
      },
      "source": [
        "#Sử dụng Linear regression để huấn luyện với hàm loss là rmsle và độ đo R-Squared \n",
        "\n",
        "from sklearn.linear_model import LinearRegression\n",
        "from sklearn.metrics import mean_squared_error\n",
        "from sklearn.metrics import mean_squared_log_error\n",
        "\n",
        "linearregression=LinearRegression(normalize=True)\n",
        "linearregression.fit(train_data_onehot,train_data['log_prices'])  \n",
        "ytrain_predict=linearregression.predict(train_data_onehot)\n",
        "yval_predict=linearregression.predict(validation_data_onehot)\n",
        "train_error=np.sqrt(mean_squared_error(train_data['log_prices'],ytrain_predict))\n",
        "val_error=np.sqrt(mean_squared_error(validation_data['log_prices'],yval_predict))\n",
        "#Ở đây RMSLE được tính bởi căn bậc hai hàm mean squared error \n",
        "#Nguồn https://www.kaggle.com/questions-and-answers/60012"
      ],
      "execution_count": null,
      "outputs": []
    },
    {
      "cell_type": "code",
      "metadata": {
        "id": "Vd7b8Yl3uCWL"
      },
      "source": [
        "from sklearn.metrics import r2_score\n",
        "\n",
        "train_r2_score = r2_score(train_data['log_prices'], ytrain_predict)\n",
        "val_r2_score = r2_score(validation_data['log_prices'], yval_predict)"
      ],
      "execution_count": null,
      "outputs": []
    },
    {
      "cell_type": "code",
      "metadata": {
        "id": "VHHrwVclo2Wn",
        "colab": {
          "base_uri": "https://localhost:8080/"
        },
        "outputId": "a6a3f36a-58a8-45e5-c8f5-070ad1b86b13"
      },
      "source": [
        "#Bảng hiển thị kết quả sau khi train ở hai tập train và validation\n",
        "from prettytable import PrettyTable\n",
        "\n",
        "linear_table=PrettyTable()\n",
        "linear_table.field_names=['Score','Train','Validation']\n",
        "linear_table.add_row(['RMSLE',train_error,val_error])\n",
        "linear_table.add_row(['R2 Score',train_r2_score,val_r2_score])\n",
        "print(linear_table)"
      ],
      "execution_count": null,
      "outputs": [
        {
          "output_type": "stream",
          "text": [
            "+----------+----------------------+---------------------+\n",
            "|  Score   |        Train         |      Validation     |\n",
            "+----------+----------------------+---------------------+\n",
            "|  RMSLE   |  0.7227088223353352  |  0.731195282608367  |\n",
            "| R2 Score | 0.060877688588184764 | 0.04284151376819034 |\n",
            "+----------+----------------------+---------------------+\n"
          ],
          "name": "stdout"
        }
      ]
    },
    {
      "cell_type": "code",
      "metadata": {
        "id": "ZWj9ecvrB-jC",
        "colab": {
          "base_uri": "https://localhost:8080/",
          "height": 515
        },
        "outputId": "cef92312-05a9-4494-b8b2-502c445255fe"
      },
      "source": [
        "#Bảng hiện thị độ chính xác của model\n",
        "%matplotlib inline\n",
        "\n",
        "fig, ax = plt.subplots(1, 2,figsize=(16, 8))\n",
        "\n",
        "sns.regplot(ax=ax[0],x=train_data['log_prices'][40:80],y=ytrain_predict[40:80],marker=\"+\")\n",
        "\n",
        "\n",
        "sns.regplot(ax=ax[1],x=validation_data['log_prices'][40:80],y=yval_predict[40:80],color=\"g\",marker=\"+\")\n",
        "\n"
      ],
      "execution_count": null,
      "outputs": [
        {
          "output_type": "execute_result",
          "data": {
            "text/plain": [
              "<matplotlib.axes._subplots.AxesSubplot at 0x7ff0c28930d0>"
            ]
          },
          "metadata": {
            "tags": []
          },
          "execution_count": 60
        },
        {
          "output_type": "display_data",
          "data": {
            "image/png": "[encoded data removed]",
            "text/plain": [
              "<Figure size 1152x576 with 2 Axes>"
            ]
          },
          "metadata": {
            "tags": [],
            "needs_background": "light"
          }
        }
      ]
    },
    {
      "cell_type": "markdown",
      "metadata": {
        "id": "vJjwyVk6Ad7t"
      },
      "source": [
        "**Ridge regression**"
      ]
    },
    {
      "cell_type": "code",
      "metadata": {
        "id": "io1M-xfIQNQj",
        "colab": {
          "base_uri": "https://localhost:8080/"
        },
        "outputId": "cedd9bb1-f818-4da9-873b-d4bc5f50fee0"
      },
      "source": [
        "from sklearn.model_selection import GridSearchCV\n",
        "\n",
        "from sklearn.linear_model import Ridge\n",
        "params={'alpha':[0.01,0.1,1,10],'solver':['cholesky','lsqr','sag']}\n",
        "ridge=Ridge(fit_intercept=False)\n",
        "gridsearchcv_ridge=GridSearchCV(ridge,param_grid=params,cv=3,verbose=1,return_train_score=True)\n",
        "gridsearchcv_ridge.fit(train_data_onehot,train_data['log_prices'])"
      ],
      "execution_count": null,
      "outputs": [
        {
          "output_type": "stream",
          "text": [
            "Fitting 3 folds for each of 12 candidates, totalling 36 fits\n"
          ],
          "name": "stdout"
        },
        {
          "output_type": "stream",
          "text": [
            "[Parallel(n_jobs=1)]: Using backend SequentialBackend with 1 concurrent workers.\n",
            "[Parallel(n_jobs=1)]: Done  36 out of  36 | elapsed: 18.2min finished\n"
          ],
          "name": "stderr"
        },
        {
          "output_type": "execute_result",
          "data": {
            "text/plain": [
              "GridSearchCV(cv=3, error_score=nan,\n",
              "             estimator=Ridge(alpha=1.0, copy_X=True, fit_intercept=False,\n",
              "                             max_iter=None, normalize=False, random_state=None,\n",
              "                             solver='auto', tol=0.001),\n",
              "             iid='deprecated', n_jobs=None,\n",
              "             param_grid={'alpha': [0.01, 0.1, 1, 10],\n",
              "                         'solver': ['cholesky', 'lsqr', 'sag']},\n",
              "             pre_dispatch='2*n_jobs', refit=True, return_train_score=True,\n",
              "             scoring=None, verbose=1)"
            ]
          },
          "metadata": {
            "tags": []
          },
          "execution_count": 68
        }
      ]
    },
    {
      "cell_type": "code",
      "metadata": {
        "id": "93pIRUpmXg-f",
        "colab": {
          "base_uri": "https://localhost:8080/"
        },
        "outputId": "056c4ffc-8a5b-46b1-aa5e-5d68abc2a13f"
      },
      "source": [
        "gridsearchcv_ridge.best_params_"
      ],
      "execution_count": null,
      "outputs": [
        {
          "output_type": "execute_result",
          "data": {
            "text/plain": [
              "{'alpha': 0.01, 'solver': 'cholesky'}"
            ]
          },
          "metadata": {
            "tags": []
          },
          "execution_count": 75
        }
      ]
    },
    {
      "cell_type": "code",
      "metadata": {
        "id": "97r2-Wq56FqK"
      },
      "source": [
        "ridge = Ridge(alpha=0.01,solver='cholesky',fit_intercept=False)\n",
        "\n",
        "ridge.fit(train_data_onehot, train_data['log_prices'])\n",
        "ytrain_cholesky_predict=ridge.predict(train_data_onehot)\n",
        "ycv_cholesky_predict=ridge.predict(validation_data_onehot)\n",
        "train_error_ridge= np.sqrt(mean_squared_error(train_data['log_prices'], ytrain_cholesky_predict))\n",
        "val_error_ridge=np.sqrt(mean_squared_error(validation_data['log_prices'],ycv_cholesky_predict))\n"
      ],
      "execution_count": null,
      "outputs": []
    },
    {
      "cell_type": "code",
      "metadata": {
        "colab": {
          "base_uri": "https://localhost:8080/"
        },
        "id": "P_RuM1UXfffg",
        "outputId": "7b9c4af0-8273-4edd-e423-83b80893ba50"
      },
      "source": [
        "ridge_table=PrettyTable()\n",
        "ridge_table.field_names=['Score','Train','Validation']\n",
        "ridge_table.add_row(['RMSLE',train_error_ridge,val_error_ridge])\n",
        "ridge_table.add_row(['Best Score',ridge.score(train_data_onehot,train_data['log_prices']),ridge.score(validation_data_onehot,validation_data['log_prices'])])\n",
        "print(ridge_table)\n"
      ],
      "execution_count": null,
      "outputs": [
        {
          "output_type": "stream",
          "text": [
            "+------------+----------------------+----------------------+\n",
            "|   Score    |        Train         |      Validation      |\n",
            "+------------+----------------------+----------------------+\n",
            "|   RMSLE    |  0.723215837611528   |  0.7238984578745482  |\n",
            "| Best Score | 0.059559546718850775 | 0.061849756964906355 |\n",
            "+------------+----------------------+----------------------+\n"
          ],
          "name": "stdout"
        }
      ]
    },
    {
      "cell_type": "code",
      "metadata": {
        "id": "1eenvJkL6ZfN",
        "colab": {
          "base_uri": "https://localhost:8080/",
          "height": 299
        },
        "outputId": "c2ad904d-a1a1-4309-beab-0819d26651bd"
      },
      "source": [
        ""
      ],
      "execution_count": null,
      "outputs": [
        {
          "output_type": "display_data",
          "data": {
            "image/png": "[encoded data removed]",
            "text/plain": [
              "<Figure size 432x288 with 1 Axes>"
            ]
          },
          "metadata": {
            "tags": [],
            "needs_background": "light"
          }
        }
      ]
    },
    {
      "cell_type": "code",
      "metadata": {
        "id": "kEmfSRXH672w"
      },
      "source": [
        ""
      ],
      "execution_count": null,
      "outputs": []
    },
    {
      "cell_type": "code",
      "metadata": {
        "id": "ZsskT-PSYBNW"
      },
      "source": [
        ""
      ],
      "execution_count": null,
      "outputs": []
    },
    {
      "cell_type": "code",
      "metadata": {
        "id": "-ds5Mcc3AA1f"
      },
      "source": [
        ""
      ],
      "execution_count": null,
      "outputs": []
    },
    {
      "cell_type": "markdown",
      "metadata": {
        "id": "fWj-MFh8BVv_"
      },
      "source": [
        "**Dự đoán trên tập submission**"
      ]
    },
    {
      "cell_type": "code",
      "metadata": {
        "id": "L4wAy_qK_BQG"
      },
      "source": [
        "ytest_predict_ridge=ridge_cv.predict(X_test)"
      ],
      "execution_count": null,
      "outputs": []
    },
    {
      "cell_type": "code",
      "metadata": {
        "id": "7dQAVUR3BCed"
      },
      "source": [
        "submission_data = pd.read_csv('sample_submission_stg2.csv')\n",
        "submission_data.head(5)"
      ],
      "execution_count": null,
      "outputs": []
    },
    {
      "cell_type": "code",
      "metadata": {
        "id": "DMKjItucBGh1"
      },
      "source": [
        "submission_data.shape"
      ],
      "execution_count": null,
      "outputs": []
    },
    {
      "cell_type": "code",
      "metadata": {
        "id": "Pbd20poXBJIl"
      },
      "source": [
        "submission_data.loc[:, 'price'] = np.expm1(ytest_predict_ridge)"
      ],
      "execution_count": null,
      "outputs": []
    },
    {
      "cell_type": "code",
      "metadata": {
        "id": "lCU8uSoWBQWN"
      },
      "source": [
        "submission_data.head(5)"
      ],
      "execution_count": null,
      "outputs": []
    },
    {
      "cell_type": "code",
      "metadata": {
        "id": "Hu8QlzchBRjJ"
      },
      "source": [
        "submission_data.to_csv('submission.csv', index=False)"
      ],
      "execution_count": null,
      "outputs": []
    }
  ]
}