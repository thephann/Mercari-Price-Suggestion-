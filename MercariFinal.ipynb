{
  "nbformat": 4,
  "nbformat_minor": 0,
  "metadata": {
    "colab": {
      "name": "Mercariahihi",
      "provenance": [],
      "collapsed_sections": [],
      "authorship_tag": "ABX9TyMRr9KRohjzKP0kYI7IlSjE",
      "include_colab_link": true
    },
    "kernelspec": {
      "name": "python3",
      "display_name": "Python 3"
    },
    "language_info": {
      "name": "python"
    }
  },
  "cells": [
    {
      "cell_type": "markdown",
      "metadata": {
        "id": "view-in-github",
        "colab_type": "text"
      },
      "source": [
        "<a href=\"https://colab.research.google.com/github/thephann/Mercari-Price-Suggestion-/blob/main/MercariFinal.ipynb\" target=\"_parent\"><img src=\"https://colab.research.google.com/assets/colab-badge.svg\" alt=\"Open In Colab\"/></a>"
      ]
    },
    {
      "cell_type": "markdown",
      "metadata": {
        "id": "bSr8Uf0a_Ksc"
      },
      "source": [
        "**Các thư viện cần thiết**"
      ]
    },
    {
      "cell_type": "code",
      "metadata": {
        "id": "v-kUWbizKiB4"
      },
      "source": [
        "import numpy as np\n",
        "import pandas as pd\n",
        "import matplotlib.pyplot as plt\n",
        "import seaborn as sns\n",
        "from sklearn.model_selection import train_test_split"
      ],
      "execution_count": 1,
      "outputs": []
    },
    {
      "cell_type": "code",
      "metadata": {
        "colab": {
          "base_uri": "https://localhost:8080/"
        },
        "id": "vp2PHQbz7dEM",
        "outputId": "1084f350-534e-4c5c-ed7b-8e412a0510a2"
      },
      "source": [
        "#Đọc file từ drive\n",
        "from google.colab import drive\n",
        "drive.mount(\"/content/drive\")"
      ],
      "execution_count": 2,
      "outputs": [
        {
          "output_type": "stream",
          "text": [
            "Mounted at /content/drive\n"
          ],
          "name": "stdout"
        }
      ]
    },
    {
      "cell_type": "markdown",
      "metadata": {
        "id": "fiMAnrhN_gfm"
      },
      "source": [
        "**Tải dữ liệu traning**"
      ]
    },
    {
      "cell_type": "code",
      "metadata": {
        "colab": {
          "base_uri": "https://localhost:8080/",
          "height": 289
        },
        "id": "SURF9Run7mEG",
        "outputId": "301f480c-1bf6-43bf-b5c0-2c1680f708de"
      },
      "source": [
        "#Dùng pandas để đọc dữ liệu\n",
        "train_data = pd.read_csv('/content/drive/My Drive/Datasets/Mercari/train.tsv',sep='\\t')\n",
        "train_data.head(5)"
      ],
      "execution_count": 3,
      "outputs": [
        {
          "output_type": "execute_result",
          "data": {
            "text/html": [
              "<div>\n",
              "<style scoped>\n",
              "    .dataframe tbody tr th:only-of-type {\n",
              "        vertical-align: middle;\n",
              "    }\n",
              "\n",
              "    .dataframe tbody tr th {\n",
              "        vertical-align: top;\n",
              "    }\n",
              "\n",
              "    .dataframe thead th {\n",
              "        text-align: right;\n",
              "    }\n",
              "</style>\n",
              "<table border=\"1\" class=\"dataframe\">\n",
              "  <thead>\n",
              "    <tr style=\"text-align: right;\">\n",
              "      <th></th>\n",
              "      <th>train_id</th>\n",
              "      <th>name</th>\n",
              "      <th>item_condition_id</th>\n",
              "      <th>category_name</th>\n",
              "      <th>brand_name</th>\n",
              "      <th>price</th>\n",
              "      <th>shipping</th>\n",
              "      <th>item_description</th>\n",
              "    </tr>\n",
              "  </thead>\n",
              "  <tbody>\n",
              "    <tr>\n",
              "      <th>0</th>\n",
              "      <td>0</td>\n",
              "      <td>MLB Cincinnati Reds T Shirt Size XL</td>\n",
              "      <td>3</td>\n",
              "      <td>Men/Tops/T-shirts</td>\n",
              "      <td>NaN</td>\n",
              "      <td>10.0</td>\n",
              "      <td>1</td>\n",
              "      <td>No description yet</td>\n",
              "    </tr>\n",
              "    <tr>\n",
              "      <th>1</th>\n",
              "      <td>1</td>\n",
              "      <td>Razer BlackWidow Chroma Keyboard</td>\n",
              "      <td>3</td>\n",
              "      <td>Electronics/Computers &amp; Tablets/Components &amp; P...</td>\n",
              "      <td>Razer</td>\n",
              "      <td>52.0</td>\n",
              "      <td>0</td>\n",
              "      <td>This keyboard is in great condition and works ...</td>\n",
              "    </tr>\n",
              "    <tr>\n",
              "      <th>2</th>\n",
              "      <td>2</td>\n",
              "      <td>AVA-VIV Blouse</td>\n",
              "      <td>1</td>\n",
              "      <td>Women/Tops &amp; Blouses/Blouse</td>\n",
              "      <td>Target</td>\n",
              "      <td>10.0</td>\n",
              "      <td>1</td>\n",
              "      <td>Adorable top with a hint of lace and a key hol...</td>\n",
              "    </tr>\n",
              "    <tr>\n",
              "      <th>3</th>\n",
              "      <td>3</td>\n",
              "      <td>Leather Horse Statues</td>\n",
              "      <td>1</td>\n",
              "      <td>Home/Home Décor/Home Décor Accents</td>\n",
              "      <td>NaN</td>\n",
              "      <td>35.0</td>\n",
              "      <td>1</td>\n",
              "      <td>New with tags. Leather horses. Retail for [rm]...</td>\n",
              "    </tr>\n",
              "    <tr>\n",
              "      <th>4</th>\n",
              "      <td>4</td>\n",
              "      <td>24K GOLD plated rose</td>\n",
              "      <td>1</td>\n",
              "      <td>Women/Jewelry/Necklaces</td>\n",
              "      <td>NaN</td>\n",
              "      <td>44.0</td>\n",
              "      <td>0</td>\n",
              "      <td>Complete with certificate of authenticity</td>\n",
              "    </tr>\n",
              "  </tbody>\n",
              "</table>\n",
              "</div>"
            ],
            "text/plain": [
              "   train_id  ...                                   item_description\n",
              "0         0  ...                                 No description yet\n",
              "1         1  ...  This keyboard is in great condition and works ...\n",
              "2         2  ...  Adorable top with a hint of lace and a key hol...\n",
              "3         3  ...  New with tags. Leather horses. Retail for [rm]...\n",
              "4         4  ...          Complete with certificate of authenticity\n",
              "\n",
              "[5 rows x 8 columns]"
            ]
          },
          "metadata": {
            "tags": []
          },
          "execution_count": 3
        }
      ]
    },
    {
      "cell_type": "code",
      "metadata": {
        "colab": {
          "base_uri": "https://localhost:8080/"
        },
        "id": "rZiJu2S_7wO5",
        "outputId": "9673d2f2-ad44-4bdd-ea8e-f28ec56c46eb"
      },
      "source": [
        "#Kiểm tra các giá trị null\n",
        "train_data.isnull().sum()"
      ],
      "execution_count": 4,
      "outputs": [
        {
          "output_type": "execute_result",
          "data": {
            "text/plain": [
              "train_id                  0\n",
              "name                      0\n",
              "item_condition_id         0\n",
              "category_name          6327\n",
              "brand_name           632682\n",
              "price                     0\n",
              "shipping                  0\n",
              "item_description          4\n",
              "dtype: int64"
            ]
          },
          "metadata": {
            "tags": []
          },
          "execution_count": 4
        }
      ]
    },
    {
      "cell_type": "code",
      "metadata": {
        "colab": {
          "base_uri": "https://localhost:8080/"
        },
        "id": "Z1jLGOEE7yTQ",
        "outputId": "74d8189c-b955-422f-e1d6-c0e58dd9102c"
      },
      "source": [
        "#Chia tập train thành tập train và validation với tỉ lệ tập validation là 0.1\n",
        "train_data = train_data[train_data['price'] > 0].reset_index(drop=True)\n",
        "train_data,validation_data=train_test_split(train_data,test_size=0.1,random_state=42)\n",
        "print(train_data.shape)\n",
        "print(validation_data.shape)"
      ],
      "execution_count": 5,
      "outputs": [
        {
          "output_type": "stream",
          "text": [
            "(1333494, 8)\n",
            "(148167, 8)\n"
          ],
          "name": "stdout"
        }
      ]
    },
    {
      "cell_type": "code",
      "metadata": {
        "id": "LbuEdl4x72Ui"
      },
      "source": [
        "train = train_data.copy()\n",
        "valid = validation_data.copy()"
      ],
      "execution_count": 6,
      "outputs": []
    },
    {
      "cell_type": "code",
      "metadata": {
        "id": "QEYYVhQ076XC"
      },
      "source": [
        "#Hàm chia category thành các sub category\n",
        "def split_categories(category):\n",
        "    try:\n",
        "      sub_category1,sub_category2,sub_category3 = category.split(\"/\")\n",
        "      return sub_category1,sub_category2,sub_category3\n",
        "    except:\n",
        "      return (\"No label\",\"No label\",\"No label\")\n",
        "\n",
        "def create_split_categories(data):\n",
        "    data['sub_category1'],data['sub_category2'],data['sub_category3']=zip(*data['category_name'].\\\n",
        "                                                                  apply(lambda x: split_categories(x)))\n",
        "\n",
        "#Hàm thay thế các giá trị null   \n",
        "def fill_missing_values(data):\n",
        "    data['category_name'].fillna('unknown_cat', inplace=True)\n",
        "    data['brand_name'].fillna('unknown_brand', inplace=True)\n",
        "    data['item_description'].fillna('unknown_description', inplace=True)\n",
        "    return data"
      ],
      "execution_count": 7,
      "outputs": []
    },
    {
      "cell_type": "code",
      "metadata": {
        "colab": {
          "base_uri": "https://localhost:8080/",
          "height": 864
        },
        "id": "Ark5GzxF8AhY",
        "outputId": "0cbd4676-24f9-4ac4-f39c-3256ca12b47f"
      },
      "source": [
        "create_split_categories(train_data)\n",
        "create_split_categories(validation_data)\n",
        "\n",
        "fill_missing_values(train_data)\n",
        "fill_missing_values(validation_data)"
      ],
      "execution_count": 8,
      "outputs": [
        {
          "output_type": "execute_result",
          "data": {
            "text/html": [
              "<div>\n",
              "<style scoped>\n",
              "    .dataframe tbody tr th:only-of-type {\n",
              "        vertical-align: middle;\n",
              "    }\n",
              "\n",
              "    .dataframe tbody tr th {\n",
              "        vertical-align: top;\n",
              "    }\n",
              "\n",
              "    .dataframe thead th {\n",
              "        text-align: right;\n",
              "    }\n",
              "</style>\n",
              "<table border=\"1\" class=\"dataframe\">\n",
              "  <thead>\n",
              "    <tr style=\"text-align: right;\">\n",
              "      <th></th>\n",
              "      <th>train_id</th>\n",
              "      <th>name</th>\n",
              "      <th>item_condition_id</th>\n",
              "      <th>category_name</th>\n",
              "      <th>brand_name</th>\n",
              "      <th>price</th>\n",
              "      <th>shipping</th>\n",
              "      <th>item_description</th>\n",
              "      <th>sub_category1</th>\n",
              "      <th>sub_category2</th>\n",
              "      <th>sub_category3</th>\n",
              "    </tr>\n",
              "  </thead>\n",
              "  <tbody>\n",
              "    <tr>\n",
              "      <th>639825</th>\n",
              "      <td>640169</td>\n",
              "      <td>Mickey Mouse Crop Top</td>\n",
              "      <td>4</td>\n",
              "      <td>Women/Tops &amp; Blouses/T-Shirts</td>\n",
              "      <td>Disney</td>\n",
              "      <td>6.0</td>\n",
              "      <td>1</td>\n",
              "      <td>white crop top. mickey mouse design on the fro...</td>\n",
              "      <td>Women</td>\n",
              "      <td>Tops &amp; Blouses</td>\n",
              "      <td>T-Shirts</td>\n",
              "    </tr>\n",
              "    <tr>\n",
              "      <th>506709</th>\n",
              "      <td>506976</td>\n",
              "      <td>Converse Shoreline Wm's Sneaker Sz 9</td>\n",
              "      <td>1</td>\n",
              "      <td>Women/Shoes/Fashion Sneakers</td>\n",
              "      <td>Converse</td>\n",
              "      <td>38.0</td>\n",
              "      <td>0</td>\n",
              "      <td>Chuck Taylor's Shoreline Women's Sneaker Size ...</td>\n",
              "      <td>Women</td>\n",
              "      <td>Shoes</td>\n",
              "      <td>Fashion Sneakers</td>\n",
              "    </tr>\n",
              "    <tr>\n",
              "      <th>1391997</th>\n",
              "      <td>1392815</td>\n",
              "      <td>Shellshell bundle</td>\n",
              "      <td>3</td>\n",
              "      <td>Kids/Girls (4+)/Other</td>\n",
              "      <td>unknown_brand</td>\n",
              "      <td>19.0</td>\n",
              "      <td>1</td>\n",
              "      <td>3 leotards as pictured</td>\n",
              "      <td>Kids</td>\n",
              "      <td>Girls (4+)</td>\n",
              "      <td>Other</td>\n",
              "    </tr>\n",
              "    <tr>\n",
              "      <th>805573</th>\n",
              "      <td>806019</td>\n",
              "      <td>Wallflower plugins</td>\n",
              "      <td>3</td>\n",
              "      <td>Home/Home Décor/Home Fragrance</td>\n",
              "      <td>Bath &amp; Body Works</td>\n",
              "      <td>13.0</td>\n",
              "      <td>1</td>\n",
              "      <td>Five of them</td>\n",
              "      <td>Home</td>\n",
              "      <td>Home Décor</td>\n",
              "      <td>Home Fragrance</td>\n",
              "    </tr>\n",
              "    <tr>\n",
              "      <th>669893</th>\n",
              "      <td>670253</td>\n",
              "      <td>New Nike Pros HOT PINK size M</td>\n",
              "      <td>2</td>\n",
              "      <td>Women/Athletic Apparel/Shorts</td>\n",
              "      <td>Nike</td>\n",
              "      <td>14.0</td>\n",
              "      <td>1</td>\n",
              "      <td>Bought for my daughter and they are too small ...</td>\n",
              "      <td>Women</td>\n",
              "      <td>Athletic Apparel</td>\n",
              "      <td>Shorts</td>\n",
              "    </tr>\n",
              "    <tr>\n",
              "      <th>...</th>\n",
              "      <td>...</td>\n",
              "      <td>...</td>\n",
              "      <td>...</td>\n",
              "      <td>...</td>\n",
              "      <td>...</td>\n",
              "      <td>...</td>\n",
              "      <td>...</td>\n",
              "      <td>...</td>\n",
              "      <td>...</td>\n",
              "      <td>...</td>\n",
              "      <td>...</td>\n",
              "    </tr>\n",
              "    <tr>\n",
              "      <th>835326</th>\n",
              "      <td>835783</td>\n",
              "      <td>Akai MPK mini MkII Usb Midi Keyboard</td>\n",
              "      <td>2</td>\n",
              "      <td>Other/Musical instruments/Keyboards</td>\n",
              "      <td>Akai</td>\n",
              "      <td>51.0</td>\n",
              "      <td>0</td>\n",
              "      <td>Barely used, in excellent condition</td>\n",
              "      <td>Other</td>\n",
              "      <td>Musical instruments</td>\n",
              "      <td>Keyboards</td>\n",
              "    </tr>\n",
              "    <tr>\n",
              "      <th>1317637</th>\n",
              "      <td>1318394</td>\n",
              "      <td>FREE SHIP WHITE BROWNING DECAL BUNDLE</td>\n",
              "      <td>1</td>\n",
              "      <td>Women/Women's Accessories/Other</td>\n",
              "      <td>Browning</td>\n",
              "      <td>3.0</td>\n",
              "      <td>1</td>\n",
              "      <td>Bundle for anyone! Ships TOMORROW! (Saturday) ...</td>\n",
              "      <td>Women</td>\n",
              "      <td>Women's Accessories</td>\n",
              "      <td>Other</td>\n",
              "    </tr>\n",
              "    <tr>\n",
              "      <th>510142</th>\n",
              "      <td>510413</td>\n",
              "      <td>Black sequin dress</td>\n",
              "      <td>1</td>\n",
              "      <td>Women/Dresses/Above Knee, Mini</td>\n",
              "      <td>unknown_brand</td>\n",
              "      <td>22.0</td>\n",
              "      <td>0</td>\n",
              "      <td>Brand-new sealed package Mardi gras Party Sequ...</td>\n",
              "      <td>Women</td>\n",
              "      <td>Dresses</td>\n",
              "      <td>Above Knee, Mini</td>\n",
              "    </tr>\n",
              "    <tr>\n",
              "      <th>1213839</th>\n",
              "      <td>1214539</td>\n",
              "      <td>TC Lularoe leggings fairy skeletons</td>\n",
              "      <td>2</td>\n",
              "      <td>Women/Jeans/Leggings</td>\n",
              "      <td>unknown_brand</td>\n",
              "      <td>35.0</td>\n",
              "      <td>1</td>\n",
              "      <td>TC, only tried on</td>\n",
              "      <td>Women</td>\n",
              "      <td>Jeans</td>\n",
              "      <td>Leggings</td>\n",
              "    </tr>\n",
              "    <tr>\n",
              "      <th>957938</th>\n",
              "      <td>958472</td>\n",
              "      <td>Bare Minerals light n10 powder</td>\n",
              "      <td>1</td>\n",
              "      <td>Beauty/Makeup/Face</td>\n",
              "      <td>bareMinerals</td>\n",
              "      <td>12.0</td>\n",
              "      <td>1</td>\n",
              "      <td>New</td>\n",
              "      <td>Beauty</td>\n",
              "      <td>Makeup</td>\n",
              "      <td>Face</td>\n",
              "    </tr>\n",
              "  </tbody>\n",
              "</table>\n",
              "<p>148167 rows × 11 columns</p>\n",
              "</div>"
            ],
            "text/plain": [
              "         train_id  ...     sub_category3\n",
              "639825     640169  ...          T-Shirts\n",
              "506709     506976  ...  Fashion Sneakers\n",
              "1391997   1392815  ...             Other\n",
              "805573     806019  ...    Home Fragrance\n",
              "669893     670253  ...            Shorts\n",
              "...           ...  ...               ...\n",
              "835326     835783  ...         Keyboards\n",
              "1317637   1318394  ...             Other\n",
              "510142     510413  ...  Above Knee, Mini\n",
              "1213839   1214539  ...          Leggings\n",
              "957938     958472  ...              Face\n",
              "\n",
              "[148167 rows x 11 columns]"
            ]
          },
          "metadata": {
            "tags": []
          },
          "execution_count": 8
        }
      ]
    },
    {
      "cell_type": "markdown",
      "metadata": {
        "id": "pyDppH7F_s1h"
      },
      "source": [
        "**Tải dữ liệu testing**"
      ]
    },
    {
      "cell_type": "code",
      "metadata": {
        "id": "6I5MFVwO8Gkn"
      },
      "source": [
        "test_data = pd.read_csv('/content/drive/My Drive/Datasets/Mercari/test_stg2.tsv',sep='\\t')\n",
        "test = test_data.copy()"
      ],
      "execution_count": 9,
      "outputs": []
    },
    {
      "cell_type": "code",
      "metadata": {
        "colab": {
          "base_uri": "https://localhost:8080/",
          "height": 272
        },
        "id": "goWD97iz8SmC",
        "outputId": "cd443a75-dae0-4f92-e629-cf163288b7dc"
      },
      "source": [
        "test_data.head(5)"
      ],
      "execution_count": 10,
      "outputs": [
        {
          "output_type": "execute_result",
          "data": {
            "text/html": [
              "<div>\n",
              "<style scoped>\n",
              "    .dataframe tbody tr th:only-of-type {\n",
              "        vertical-align: middle;\n",
              "    }\n",
              "\n",
              "    .dataframe tbody tr th {\n",
              "        vertical-align: top;\n",
              "    }\n",
              "\n",
              "    .dataframe thead th {\n",
              "        text-align: right;\n",
              "    }\n",
              "</style>\n",
              "<table border=\"1\" class=\"dataframe\">\n",
              "  <thead>\n",
              "    <tr style=\"text-align: right;\">\n",
              "      <th></th>\n",
              "      <th>test_id</th>\n",
              "      <th>name</th>\n",
              "      <th>item_condition_id</th>\n",
              "      <th>category_name</th>\n",
              "      <th>brand_name</th>\n",
              "      <th>shipping</th>\n",
              "      <th>item_description</th>\n",
              "    </tr>\n",
              "  </thead>\n",
              "  <tbody>\n",
              "    <tr>\n",
              "      <th>0</th>\n",
              "      <td>0</td>\n",
              "      <td>Breast cancer \"I fight like a girl\" ring</td>\n",
              "      <td>1</td>\n",
              "      <td>Women/Jewelry/Rings</td>\n",
              "      <td>NaN</td>\n",
              "      <td>1</td>\n",
              "      <td>Size 7</td>\n",
              "    </tr>\n",
              "    <tr>\n",
              "      <th>1</th>\n",
              "      <td>1</td>\n",
              "      <td>25 pcs NEW 7.5\"x12\" Kraft Bubble Mailers</td>\n",
              "      <td>1</td>\n",
              "      <td>Other/Office supplies/Shipping Supplies</td>\n",
              "      <td>NaN</td>\n",
              "      <td>1</td>\n",
              "      <td>25 pcs NEW 7.5\"x12\" Kraft Bubble Mailers Lined...</td>\n",
              "    </tr>\n",
              "    <tr>\n",
              "      <th>2</th>\n",
              "      <td>2</td>\n",
              "      <td>Coach bag</td>\n",
              "      <td>1</td>\n",
              "      <td>Vintage &amp; Collectibles/Bags and Purses/Handbag</td>\n",
              "      <td>Coach</td>\n",
              "      <td>1</td>\n",
              "      <td>Brand new coach bag. Bought for [rm] at a Coac...</td>\n",
              "    </tr>\n",
              "    <tr>\n",
              "      <th>3</th>\n",
              "      <td>3</td>\n",
              "      <td>Floral Kimono</td>\n",
              "      <td>2</td>\n",
              "      <td>Women/Sweaters/Cardigan</td>\n",
              "      <td>NaN</td>\n",
              "      <td>0</td>\n",
              "      <td>-floral kimono -never worn -lightweight and pe...</td>\n",
              "    </tr>\n",
              "    <tr>\n",
              "      <th>4</th>\n",
              "      <td>4</td>\n",
              "      <td>Life after Death</td>\n",
              "      <td>3</td>\n",
              "      <td>Other/Books/Religion &amp; Spirituality</td>\n",
              "      <td>NaN</td>\n",
              "      <td>1</td>\n",
              "      <td>Rediscovering life after the loss of a loved o...</td>\n",
              "    </tr>\n",
              "  </tbody>\n",
              "</table>\n",
              "</div>"
            ],
            "text/plain": [
              "   test_id  ...                                   item_description\n",
              "0        0  ...                                             Size 7\n",
              "1        1  ...  25 pcs NEW 7.5\"x12\" Kraft Bubble Mailers Lined...\n",
              "2        2  ...  Brand new coach bag. Bought for [rm] at a Coac...\n",
              "3        3  ...  -floral kimono -never worn -lightweight and pe...\n",
              "4        4  ...  Rediscovering life after the loss of a loved o...\n",
              "\n",
              "[5 rows x 7 columns]"
            ]
          },
          "metadata": {
            "tags": []
          },
          "execution_count": 10
        }
      ]
    },
    {
      "cell_type": "code",
      "metadata": {
        "colab": {
          "base_uri": "https://localhost:8080/",
          "height": 830
        },
        "id": "m58ZttDT8Tuc",
        "outputId": "c487d31f-ffc1-4330-84c9-80255fbaa4de"
      },
      "source": [
        "create_split_categories(test_data)\n",
        "fill_missing_values(test_data)"
      ],
      "execution_count": 11,
      "outputs": [
        {
          "output_type": "execute_result",
          "data": {
            "text/html": [
              "<div>\n",
              "<style scoped>\n",
              "    .dataframe tbody tr th:only-of-type {\n",
              "        vertical-align: middle;\n",
              "    }\n",
              "\n",
              "    .dataframe tbody tr th {\n",
              "        vertical-align: top;\n",
              "    }\n",
              "\n",
              "    .dataframe thead th {\n",
              "        text-align: right;\n",
              "    }\n",
              "</style>\n",
              "<table border=\"1\" class=\"dataframe\">\n",
              "  <thead>\n",
              "    <tr style=\"text-align: right;\">\n",
              "      <th></th>\n",
              "      <th>test_id</th>\n",
              "      <th>name</th>\n",
              "      <th>item_condition_id</th>\n",
              "      <th>category_name</th>\n",
              "      <th>brand_name</th>\n",
              "      <th>shipping</th>\n",
              "      <th>item_description</th>\n",
              "      <th>sub_category1</th>\n",
              "      <th>sub_category2</th>\n",
              "      <th>sub_category3</th>\n",
              "    </tr>\n",
              "  </thead>\n",
              "  <tbody>\n",
              "    <tr>\n",
              "      <th>0</th>\n",
              "      <td>0</td>\n",
              "      <td>Breast cancer \"I fight like a girl\" ring</td>\n",
              "      <td>1</td>\n",
              "      <td>Women/Jewelry/Rings</td>\n",
              "      <td>unknown_brand</td>\n",
              "      <td>1</td>\n",
              "      <td>Size 7</td>\n",
              "      <td>Women</td>\n",
              "      <td>Jewelry</td>\n",
              "      <td>Rings</td>\n",
              "    </tr>\n",
              "    <tr>\n",
              "      <th>1</th>\n",
              "      <td>1</td>\n",
              "      <td>25 pcs NEW 7.5\"x12\" Kraft Bubble Mailers</td>\n",
              "      <td>1</td>\n",
              "      <td>Other/Office supplies/Shipping Supplies</td>\n",
              "      <td>unknown_brand</td>\n",
              "      <td>1</td>\n",
              "      <td>25 pcs NEW 7.5\"x12\" Kraft Bubble Mailers Lined...</td>\n",
              "      <td>Other</td>\n",
              "      <td>Office supplies</td>\n",
              "      <td>Shipping Supplies</td>\n",
              "    </tr>\n",
              "    <tr>\n",
              "      <th>2</th>\n",
              "      <td>2</td>\n",
              "      <td>Coach bag</td>\n",
              "      <td>1</td>\n",
              "      <td>Vintage &amp; Collectibles/Bags and Purses/Handbag</td>\n",
              "      <td>Coach</td>\n",
              "      <td>1</td>\n",
              "      <td>Brand new coach bag. Bought for [rm] at a Coac...</td>\n",
              "      <td>Vintage &amp; Collectibles</td>\n",
              "      <td>Bags and Purses</td>\n",
              "      <td>Handbag</td>\n",
              "    </tr>\n",
              "    <tr>\n",
              "      <th>3</th>\n",
              "      <td>3</td>\n",
              "      <td>Floral Kimono</td>\n",
              "      <td>2</td>\n",
              "      <td>Women/Sweaters/Cardigan</td>\n",
              "      <td>unknown_brand</td>\n",
              "      <td>0</td>\n",
              "      <td>-floral kimono -never worn -lightweight and pe...</td>\n",
              "      <td>Women</td>\n",
              "      <td>Sweaters</td>\n",
              "      <td>Cardigan</td>\n",
              "    </tr>\n",
              "    <tr>\n",
              "      <th>4</th>\n",
              "      <td>4</td>\n",
              "      <td>Life after Death</td>\n",
              "      <td>3</td>\n",
              "      <td>Other/Books/Religion &amp; Spirituality</td>\n",
              "      <td>unknown_brand</td>\n",
              "      <td>1</td>\n",
              "      <td>Rediscovering life after the loss of a loved o...</td>\n",
              "      <td>Other</td>\n",
              "      <td>Books</td>\n",
              "      <td>Religion &amp; Spirituality</td>\n",
              "    </tr>\n",
              "    <tr>\n",
              "      <th>...</th>\n",
              "      <td>...</td>\n",
              "      <td>...</td>\n",
              "      <td>...</td>\n",
              "      <td>...</td>\n",
              "      <td>...</td>\n",
              "      <td>...</td>\n",
              "      <td>...</td>\n",
              "      <td>...</td>\n",
              "      <td>...</td>\n",
              "      <td>...</td>\n",
              "    </tr>\n",
              "    <tr>\n",
              "      <th>3460720</th>\n",
              "      <td>3460720</td>\n",
              "      <td>DARK SAMPLE BYE FOUNDATION MOISTURIZER</td>\n",
              "      <td>1</td>\n",
              "      <td>Beauty/Fragrance/Women</td>\n",
              "      <td>unknown_brand</td>\n",
              "      <td>1</td>\n",
              "      <td>It cosmetics Bye Bye Foundation Full Coverage ...</td>\n",
              "      <td>Beauty</td>\n",
              "      <td>Fragrance</td>\n",
              "      <td>Women</td>\n",
              "    </tr>\n",
              "    <tr>\n",
              "      <th>3460721</th>\n",
              "      <td>3460721</td>\n",
              "      <td>bundle for @brandystash</td>\n",
              "      <td>2</td>\n",
              "      <td>Women/Pants/Other</td>\n",
              "      <td>unknown_brand</td>\n",
              "      <td>1</td>\n",
              "      <td>♡2 pairs of omighty trackiez. one m and one s....</td>\n",
              "      <td>Women</td>\n",
              "      <td>Pants</td>\n",
              "      <td>Other</td>\n",
              "    </tr>\n",
              "    <tr>\n",
              "      <th>3460722</th>\n",
              "      <td>3460722</td>\n",
              "      <td>Toddler High-top Converse</td>\n",
              "      <td>3</td>\n",
              "      <td>Kids/Girls 0-24 Mos/Shoes</td>\n",
              "      <td>Nike</td>\n",
              "      <td>0</td>\n",
              "      <td>Size 5 (toddler). Pink high top converse shoes...</td>\n",
              "      <td>Kids</td>\n",
              "      <td>Girls 0-24 Mos</td>\n",
              "      <td>Shoes</td>\n",
              "    </tr>\n",
              "    <tr>\n",
              "      <th>3460723</th>\n",
              "      <td>3460723</td>\n",
              "      <td>Yoga Sling Sandals</td>\n",
              "      <td>1</td>\n",
              "      <td>Women/Shoes/Sandals</td>\n",
              "      <td>Sanuk</td>\n",
              "      <td>1</td>\n",
              "      <td>super super comfy. i have a pair but ordered t...</td>\n",
              "      <td>Women</td>\n",
              "      <td>Shoes</td>\n",
              "      <td>Sandals</td>\n",
              "    </tr>\n",
              "    <tr>\n",
              "      <th>3460724</th>\n",
              "      <td>3460724</td>\n",
              "      <td>Stylish ladies M/M insulated brown coat</td>\n",
              "      <td>3</td>\n",
              "      <td>Women/Coats &amp; Jackets/Other</td>\n",
              "      <td>unknown_brand</td>\n",
              "      <td>1</td>\n",
              "      <td>100% Genuine leather and faux fur insulated co...</td>\n",
              "      <td>Women</td>\n",
              "      <td>Coats &amp; Jackets</td>\n",
              "      <td>Other</td>\n",
              "    </tr>\n",
              "  </tbody>\n",
              "</table>\n",
              "<p>3460725 rows × 10 columns</p>\n",
              "</div>"
            ],
            "text/plain": [
              "         test_id  ...            sub_category3\n",
              "0              0  ...                    Rings\n",
              "1              1  ...        Shipping Supplies\n",
              "2              2  ...                  Handbag\n",
              "3              3  ...                 Cardigan\n",
              "4              4  ...  Religion & Spirituality\n",
              "...          ...  ...                      ...\n",
              "3460720  3460720  ...                    Women\n",
              "3460721  3460721  ...                    Other\n",
              "3460722  3460722  ...                    Shoes\n",
              "3460723  3460723  ...                  Sandals\n",
              "3460724  3460724  ...                    Other\n",
              "\n",
              "[3460725 rows x 10 columns]"
            ]
          },
          "metadata": {
            "tags": []
          },
          "execution_count": 11
        }
      ]
    },
    {
      "cell_type": "markdown",
      "metadata": {
        "id": "S5jYgCbA_2Y9"
      },
      "source": [
        "#**Phân tích dữ liệu**"
      ]
    },
    {
      "cell_type": "code",
      "metadata": {
        "id": "B-20krjhTP0B",
        "colab": {
          "base_uri": "https://localhost:8080/",
          "height": 498
        },
        "outputId": "f6ac8305-626e-42e5-f08b-bcc9ba1b6ffe"
      },
      "source": [
        "#So sánh tỉ lệ item_condition_id giữa train và validation \n",
        "from collections import Counter\n",
        "\n",
        "train_cond_id = Counter(list(train_data['item_condition_id']))\n",
        "val_cond_id = Counter(list(validation_data['item_condition_id']))\n",
        "\n",
        "fig, (ax1,ax3) = plt.subplots(1,2, figsize=(15,8))\n",
        "\n",
        "ax1.bar(train_cond_id.keys(), train_cond_id.values(), width=0.2, align='edge', label='Train')\n",
        "ax1.set_xticks([1,2,3,4,5])\n",
        "ax1.set_xlabel('item_condition_id')\n",
        "ax1.legend()\n",
        "\n",
        "\n",
        "ax3.bar(val_cond_id.keys(), val_cond_id.values(), width=-0.2, align='edge', label='Val')\n",
        "ax3.set_xticks([1,2,3,4,5])\n",
        "ax3.set_xlabel('item_condition_id')\n",
        "ax3.legend()\n",
        "\n",
        "fig.show()"
      ],
      "execution_count": 12,
      "outputs": [
        {
          "output_type": "display_data",
          "data": {
            "image/png": "[encoded data removed]",
            "text/plain": [
              "<Figure size 1080x576 with 2 Axes>"
            ]
          },
          "metadata": {
            "tags": [],
            "needs_background": "light"
          }
        }
      ]
    },
    {
      "cell_type": "markdown",
      "metadata": {
        "id": "4cBA9wXpBjTd"
      },
      "source": [
        "**Phân tích feature price**"
      ]
    },
    {
      "cell_type": "code",
      "metadata": {
        "colab": {
          "base_uri": "https://localhost:8080/",
          "height": 295
        },
        "id": "p771sXHxTV1x",
        "outputId": "08898292-952c-45a7-f7cc-50ccd4b2ec0c"
      },
      "source": [
        "sns.kdeplot(data=train_data['price'])\n",
        "plt.title('Distribution of price')\n",
        "plt.grid(True)"
      ],
      "execution_count": 13,
      "outputs": [
        {
          "output_type": "display_data",
          "data": {
            "image/png": "[encoded data removed]",
            "text/plain": [
              "<Figure size 432x288 with 1 Axes>"
            ]
          },
          "metadata": {
            "tags": [],
            "needs_background": "light"
          }
        }
      ]
    },
    {
      "cell_type": "code",
      "metadata": {
        "id": "Adhwfs5M06zt"
      },
      "source": [
        "#Đưa price về dạng phân phối chuẩn\n",
        "train_data['log_prices']= np.log(train_data['price']+1)\n",
        "validation_data['log_prices']= np.log(validation_data['price']+1)"
      ],
      "execution_count": 14,
      "outputs": []
    },
    {
      "cell_type": "code",
      "metadata": {
        "colab": {
          "base_uri": "https://localhost:8080/",
          "height": 296
        },
        "id": "vxKp1WY98XvQ",
        "outputId": "97641389-31de-4d9d-cf29-554eaf05a2eb"
      },
      "source": [
        "train_data['log_prices']= np.log(train_data['price']+1)\n",
        "sns.kdeplot(data=train_data['log_prices'])\n",
        "plt.title(\"Distribution of Price variable\")\n",
        "plt.grid(True)"
      ],
      "execution_count": 15,
      "outputs": [
        {
          "output_type": "display_data",
          "data": {
            "image/png": "[encoded data removed]",
            "text/plain": [
              "<Figure size 432x288 with 1 Axes>"
            ]
          },
          "metadata": {
            "tags": [],
            "needs_background": "light"
          }
        }
      ]
    },
    {
      "cell_type": "markdown",
      "metadata": {
        "id": "iYdRjEezBqNk"
      },
      "source": [
        "**Phân tích feature category name**"
      ]
    },
    {
      "cell_type": "code",
      "metadata": {
        "id": "9cSr0si7TcgT"
      },
      "source": [
        "train_category_name = Counter(list(train_data['category_name']))\n",
        "val_category_name = Counter(list(validation_data['category_name']))\n",
        "test_category_name = Counter(list(test_data['category_name']))"
      ],
      "execution_count": 16,
      "outputs": []
    },
    {
      "cell_type": "code",
      "metadata": {
        "id": "RvIkxSfZTewg",
        "colab": {
          "base_uri": "https://localhost:8080/"
        },
        "outputId": "e5420110-cc25-4989-e02b-c2460446d291"
      },
      "source": [
        "print(\"Top 10 categories in train data: \")\n",
        "train_category_name.most_common(10)"
      ],
      "execution_count": 17,
      "outputs": [
        {
          "output_type": "stream",
          "text": [
            "Top 10 categories in train data: \n"
          ],
          "name": "stdout"
        },
        {
          "output_type": "execute_result",
          "data": {
            "text/plain": [
              "[('Women/Athletic Apparel/Pants, Tights, Leggings', 54097),\n",
              " ('Women/Tops & Blouses/T-Shirts', 41708),\n",
              " ('Beauty/Makeup/Face', 30940),\n",
              " ('Beauty/Makeup/Lips', 26942),\n",
              " ('Electronics/Video Games & Consoles/Games', 23897),\n",
              " ('Beauty/Makeup/Eyes', 22610),\n",
              " ('Electronics/Cell Phones & Accessories/Cases, Covers & Skins', 22207),\n",
              " ('Women/Underwear/Bras', 19108),\n",
              " ('Women/Tops & Blouses/Tank, Cami', 18231),\n",
              " ('Women/Dresses/Above Knee, Mini', 18200)]"
            ]
          },
          "metadata": {
            "tags": []
          },
          "execution_count": 17
        }
      ]
    },
    {
      "cell_type": "code",
      "metadata": {
        "id": "qnFTM1_8Tf0Y",
        "colab": {
          "base_uri": "https://localhost:8080/"
        },
        "outputId": "9246bada-9cac-4144-9791-1a7f58928259"
      },
      "source": [
        "print(\"Top 10 categories in validation data: \")\n",
        "val_category_name.most_common(10)"
      ],
      "execution_count": 18,
      "outputs": [
        {
          "output_type": "stream",
          "text": [
            "Top 10 categories in validation data: \n"
          ],
          "name": "stdout"
        },
        {
          "output_type": "execute_result",
          "data": {
            "text/plain": [
              "[('Women/Athletic Apparel/Pants, Tights, Leggings', 6055),\n",
              " ('Women/Tops & Blouses/T-Shirts', 4641),\n",
              " ('Beauty/Makeup/Face', 3380),\n",
              " ('Beauty/Makeup/Lips', 2959),\n",
              " ('Electronics/Video Games & Consoles/Games', 2650),\n",
              " ('Beauty/Makeup/Eyes', 2590),\n",
              " ('Electronics/Cell Phones & Accessories/Cases, Covers & Skins', 2461),\n",
              " ('Women/Underwear/Bras', 2146),\n",
              " ('Women/Tops & Blouses/Blouse', 2121),\n",
              " ('Women/Tops & Blouses/Tank, Cami', 2039)]"
            ]
          },
          "metadata": {
            "tags": []
          },
          "execution_count": 18
        }
      ]
    },
    {
      "cell_type": "code",
      "metadata": {
        "id": "ZmijQ9mCThhF",
        "colab": {
          "base_uri": "https://localhost:8080/"
        },
        "outputId": "02f1bcae-d9d1-487d-f0c9-f062c4909230"
      },
      "source": [
        "print(\"Top 10 categories in test data: \")\n",
        "test_category_name.most_common(10)"
      ],
      "execution_count": 19,
      "outputs": [
        {
          "output_type": "stream",
          "text": [
            "Top 10 categories in test data: \n"
          ],
          "name": "stdout"
        },
        {
          "output_type": "execute_result",
          "data": {
            "text/plain": [
              "[('Women/Athletic Apparel/Pants, Tights, Leggings', 139412),\n",
              " ('Women/Tops & Blouses/T-Shirts', 108334),\n",
              " ('Beauty/Makeup/Face', 80054),\n",
              " ('Beauty/Makeup/Lips', 69655),\n",
              " ('Electronics/Video Games & Consoles/Games', 62577),\n",
              " ('Beauty/Makeup/Eyes', 59469),\n",
              " ('Electronics/Cell Phones & Accessories/Cases, Covers & Skins', 57443),\n",
              " ('Women/Underwear/Bras', 50008),\n",
              " ('Women/Tops & Blouses/Tank, Cami', 47785),\n",
              " ('Women/Tops & Blouses/Blouse', 47534)]"
            ]
          },
          "metadata": {
            "tags": []
          },
          "execution_count": 19
        }
      ]
    },
    {
      "cell_type": "markdown",
      "metadata": {
        "id": "uv0h4Rp8BuOI"
      },
      "source": [
        "**Phân tích feature brand name**"
      ]
    },
    {
      "cell_type": "code",
      "metadata": {
        "id": "gguWRlrfTjYb"
      },
      "source": [
        "train_brand_name = Counter(list(train_data['brand_name']))\n",
        "val_brand_name = Counter(list(validation_data['brand_name']))\n",
        "test_brand_name = Counter(list(test_data['brand_name']))"
      ],
      "execution_count": 20,
      "outputs": []
    },
    {
      "cell_type": "code",
      "metadata": {
        "id": "xlNvJGUDTlgU",
        "colab": {
          "base_uri": "https://localhost:8080/"
        },
        "outputId": "582c97dc-573c-4778-df51-7068757b9a81"
      },
      "source": [
        "print(\"Top 10 brands in train data: \")\n",
        "train_brand_name.most_common(10)"
      ],
      "execution_count": 21,
      "outputs": [
        {
          "output_type": "stream",
          "text": [
            "Top 10 brands in train data: \n"
          ],
          "name": "stdout"
        },
        {
          "output_type": "execute_result",
          "data": {
            "text/plain": [
              "[('unknown_brand', 569214),\n",
              " ('Nike', 48591),\n",
              " ('PINK', 48550),\n",
              " (\"Victoria's Secret\", 43196),\n",
              " ('LuLaRoe', 27861),\n",
              " ('Apple', 15556),\n",
              " ('FOREVER 21', 13655),\n",
              " ('Nintendo', 13454),\n",
              " ('Lululemon', 13109),\n",
              " ('Michael Kors', 12471)]"
            ]
          },
          "metadata": {
            "tags": []
          },
          "execution_count": 21
        }
      ]
    },
    {
      "cell_type": "code",
      "metadata": {
        "id": "YgHImSkBTocd",
        "colab": {
          "base_uri": "https://localhost:8080/"
        },
        "outputId": "3717c03c-a2ca-49d9-dadd-4b9fdf9805bd"
      },
      "source": [
        "print(\"Top 10 brands in validation data: \")\n",
        "val_brand_name.most_common(10)"
      ],
      "execution_count": 22,
      "outputs": [
        {
          "output_type": "stream",
          "text": [
            "Top 10 brands in validation data: \n"
          ],
          "name": "stdout"
        },
        {
          "output_type": "execute_result",
          "data": {
            "text/plain": [
              "[('unknown_brand', 63122),\n",
              " ('PINK', 5522),\n",
              " ('Nike', 5415),\n",
              " (\"Victoria's Secret\", 4815),\n",
              " ('LuLaRoe', 3134),\n",
              " ('Apple', 1758),\n",
              " ('Nintendo', 1544),\n",
              " ('FOREVER 21', 1523),\n",
              " ('Michael Kors', 1445),\n",
              " ('Lululemon', 1441)]"
            ]
          },
          "metadata": {
            "tags": []
          },
          "execution_count": 22
        }
      ]
    },
    {
      "cell_type": "code",
      "metadata": {
        "id": "DTck4OL8TsTt",
        "colab": {
          "base_uri": "https://localhost:8080/"
        },
        "outputId": "36ca5174-ff6f-4fd6-9642-e20d7f7617bf"
      },
      "source": [
        "print(\"Top 10 brands in test data: \")\n",
        "test_brand_name.most_common(10)"
      ],
      "execution_count": 23,
      "outputs": [
        {
          "output_type": "stream",
          "text": [
            "Top 10 brands in test data: \n"
          ],
          "name": "stdout"
        },
        {
          "output_type": "execute_result",
          "data": {
            "text/plain": [
              "[('unknown_brand', 1476490),\n",
              " ('Nike', 125749),\n",
              " ('PINK', 125712),\n",
              " (\"Victoria's Secret\", 112376),\n",
              " ('LuLaRoe', 72034),\n",
              " ('Apple', 40365),\n",
              " ('FOREVER 21', 35676),\n",
              " ('Nintendo', 35446),\n",
              " ('Lululemon', 34147),\n",
              " ('Michael Kors', 32078)]"
            ]
          },
          "metadata": {
            "tags": []
          },
          "execution_count": 23
        }
      ]
    },
    {
      "cell_type": "markdown",
      "metadata": {
        "id": "oRlcwBwZ_8AW"
      },
      "source": [
        "#**Xử lý dữ liệu**"
      ]
    },
    {
      "cell_type": "markdown",
      "metadata": {
        "id": "wex7JvTZB10b"
      },
      "source": [
        "**Làm sạch dữ liệu**"
      ]
    },
    {
      "cell_type": "code",
      "metadata": {
        "colab": {
          "base_uri": "https://localhost:8080/"
        },
        "id": "z7_yRuX28gJb",
        "outputId": "9afd63de-3ebf-4c47-93ba-86d87d72f0fa"
      },
      "source": [
        "import nltk\n",
        "nltk.download('stopwords')"
      ],
      "execution_count": 24,
      "outputs": [
        {
          "output_type": "stream",
          "text": [
            "[nltk_data] Downloading package stopwords to /root/nltk_data...\n",
            "[nltk_data]   Unzipping corpora/stopwords.zip.\n"
          ],
          "name": "stdout"
        },
        {
          "output_type": "execute_result",
          "data": {
            "text/plain": [
              "True"
            ]
          },
          "metadata": {
            "tags": []
          },
          "execution_count": 24
        }
      ]
    },
    {
      "cell_type": "code",
      "metadata": {
        "id": "j0mCMZ7k8qA6"
      },
      "source": [
        "#Hàm loại bỏ stop words\n",
        "from nltk.corpus import stopwords\n",
        "\n",
        "stop = stopwords.words('english')\n",
        "\n",
        "def remove_stop_words(x):\n",
        "    x = ' '.join([i for i in x.lower().split(' ') if i not in stop])\n",
        "    return x"
      ],
      "execution_count": 25,
      "outputs": []
    },
    {
      "cell_type": "code",
      "metadata": {
        "id": "wlAZUvw48nuS"
      },
      "source": [
        "train_data['item_description'] = train_data['item_description'].apply(remove_stop_words)\n",
        "validation_data['item_description'] = validation_data['item_description'].apply(remove_stop_words)\n",
        "test_data['item_description'] = test_data['item_description'].apply(remove_stop_words)"
      ],
      "execution_count": 26,
      "outputs": []
    },
    {
      "cell_type": "code",
      "metadata": {
        "id": "GvycAWZH9rxx"
      },
      "source": [
        "#Hàm xử lý dữ liệu dạng text(đưa các từ viết tắt thành dạng thường ,loại bỏ ký tự đặc biệt, chuyển các từ in hóa thành in thường)\n",
        "\n",
        "from tqdm import tqdm\n",
        "import re\n",
        "\n",
        "def decontracted(phrase):\n",
        "    phrase = re.sub(r\"won't\", \"will not\", phrase)\n",
        "    phrase = re.sub(r\"can\\'t\", \"can not\", phrase)\n",
        "    phrase = re.sub(r\"n\\'t\", \" not\", phrase)\n",
        "    phrase = re.sub(r\"\\'re\", \" are\", phrase)\n",
        "    phrase = re.sub(r\"\\'s\", \" is\", phrase)\n",
        "    phrase = re.sub(r\"\\'d\", \" would\", phrase)\n",
        "    phrase = re.sub(r\"\\'ll\", \" will\", phrase)\n",
        "    phrase = re.sub(r\"\\'t\", \" not\", phrase)\n",
        "    phrase = re.sub(r\"\\'ve\", \" have\", phrase)\n",
        "    phrase = re.sub(r\"\\'m\", \" am\", phrase)\n",
        "    return phrase\n",
        "\n",
        "def text_preprocessing(text_col):\n",
        "  preprocessed_total = []\n",
        "  for sentence in tqdm(text_col.values):\n",
        "    sent = decontracted(sentence)\n",
        "    sent = sent.replace('\\\\r', ' ')\n",
        "    sent = sent.replace('\\\\\"', ' ')\n",
        "    sent = sent.replace('\\\\n', ' ')\n",
        "    sent = re.sub('[^A-Za-z0-9]+', ' ', sent)\n",
        "    preprocessed_total.append(sent.lower().strip())\n",
        "  return preprocessed_total"
      ],
      "execution_count": 27,
      "outputs": []
    },
    {
      "cell_type": "code",
      "metadata": {
        "colab": {
          "base_uri": "https://localhost:8080/"
        },
        "id": "mtl3_2yZ9t2U",
        "outputId": "f4948656-2981-4e9f-91de-4cb61d46ec24"
      },
      "source": [
        "train_data['item_description']=text_preprocessing(train_data['item_description'])\n",
        "validation_data['item_description']=text_preprocessing(validation_data['item_description'])\n",
        "test_data['item_description']=text_preprocessing(test_data['item_description'])\n",
        "\n",
        "train_data['name']=text_preprocessing(train_data['name'])\n",
        "validation_data['name']=text_preprocessing(validation_data['name'])\n",
        "test_data['name']=text_preprocessing(test_data['name'])"
      ],
      "execution_count": 28,
      "outputs": [
        {
          "output_type": "stream",
          "text": [
            "100%|██████████| 1333494/1333494 [00:26<00:00, 49964.24it/s]\n",
            "100%|██████████| 148167/148167 [00:02<00:00, 50022.23it/s]\n",
            "100%|██████████| 3460725/3460725 [01:09<00:00, 49885.61it/s]\n",
            "100%|██████████| 1333494/1333494 [00:19<00:00, 68905.25it/s]\n",
            "100%|██████████| 148167/148167 [00:02<00:00, 68777.68it/s]\n",
            "100%|██████████| 3460725/3460725 [00:48<00:00, 71127.30it/s]\n"
          ],
          "name": "stderr"
        }
      ]
    },
    {
      "cell_type": "code",
      "metadata": {
        "colab": {
          "base_uri": "https://localhost:8080/"
        },
        "id": "gAzGspwD_fzY",
        "outputId": "87c36551-d4fa-4fca-96f9-c57da45fbb28"
      },
      "source": [
        "print(train_data['item_description'].iloc[33],len(train_data['item_description'].iloc[33].split(' ')))\n",
        "print(train['item_description'].iloc[33],len(train['item_description'].iloc[33].split(' ')))"
      ],
      "execution_count": 29,
      "outputs": [
        {
          "output_type": "stream",
          "text": [
            "100 brand new tags cotton brown infinity scarf forever 21 beige beanie hat 13\n",
            "100% Brand New with Tags Cotton On Brown Infinity Scarf Forever 21 Beige Beanie Hat 15\n"
          ],
          "name": "stdout"
        }
      ]
    },
    {
      "cell_type": "code",
      "metadata": {
        "id": "X9ZDVv67_yzx"
      },
      "source": [
        "#Hàm xử lý dữ liệu dạng category\n",
        "def clean_category(cate_col):\n",
        "    \n",
        "    \n",
        "\n",
        "    cate_list = []\n",
        "    for i in tqdm(cate_col.values):\n",
        "        i = re.sub('[^A-Za-z0-9]+', ' ', i)\n",
        "        i = i.replace(' ','')\n",
        "        i = i.replace('&','_')\n",
        "        cate_list.append(i.strip())\n",
        "    \n",
        "    return cate_list"
      ],
      "execution_count": 30,
      "outputs": []
    },
    {
      "cell_type": "code",
      "metadata": {
        "colab": {
          "base_uri": "https://localhost:8080/"
        },
        "id": "i38kRS0d_1AB",
        "outputId": "aad69410-91ca-4e71-d440-38103c6b2110"
      },
      "source": [
        "train_data['sub_category1'] = clean_category(train_data['sub_category1'])\n",
        "validation_data['sub_category1'] = clean_category(validation_data['sub_category1'])\n",
        "test_data['sub_category1'] = clean_category(test_data['sub_category1'])\n",
        "\n",
        "train_data['sub_category2'] = clean_category(train_data['sub_category2'])\n",
        "validation_data['sub_category2'] = clean_category(validation_data['sub_category2'])\n",
        "test_data['sub_category2'] = clean_category(test_data['sub_category2'])\n",
        "\n",
        "train_data['sub_category3'] = clean_category(train_data['sub_category3'])\n",
        "validation_data['sub_category3'] = clean_category(validation_data['sub_category3'])\n",
        "test_data['sub_category3'] = clean_category(test_data['sub_category3'])"
      ],
      "execution_count": 31,
      "outputs": [
        {
          "output_type": "stream",
          "text": [
            "100%|██████████| 1333494/1333494 [00:02<00:00, 493356.04it/s]\n",
            "100%|██████████| 148167/148167 [00:00<00:00, 463496.11it/s]\n",
            "100%|██████████| 3460725/3460725 [00:06<00:00, 502806.32it/s]\n",
            "100%|██████████| 1333494/1333494 [00:03<00:00, 427688.82it/s]\n",
            "100%|██████████| 148167/148167 [00:00<00:00, 410392.55it/s]\n",
            "100%|██████████| 3460725/3460725 [00:07<00:00, 432862.09it/s]\n",
            "100%|██████████| 1333494/1333494 [00:03<00:00, 432506.99it/s]\n",
            "100%|██████████| 148167/148167 [00:00<00:00, 418339.71it/s]\n",
            "100%|██████████| 3460725/3460725 [00:07<00:00, 437539.66it/s]\n"
          ],
          "name": "stderr"
        }
      ]
    },
    {
      "cell_type": "code",
      "metadata": {
        "colab": {
          "base_uri": "https://localhost:8080/"
        },
        "id": "3pBnYxHE_8LI",
        "outputId": "d15b7f05-4a06-432b-bcc1-65ffebe9ebcf"
      },
      "source": [
        "#Xử lý dữ liệu brand name \n",
        "train_data['brand_name'] = clean_category(train_data['brand_name'])\n",
        "validation_data['brand_name'] = clean_category(validation_data['brand_name'])\n",
        "test_data['brand_name'] = clean_category(test_data['brand_name'])"
      ],
      "execution_count": 32,
      "outputs": [
        {
          "output_type": "stream",
          "text": [
            "100%|██████████| 1333494/1333494 [00:03<00:00, 415080.52it/s]\n",
            "100%|██████████| 148167/148167 [00:00<00:00, 399590.96it/s]\n",
            "100%|██████████| 3460725/3460725 [00:07<00:00, 435751.28it/s]\n"
          ],
          "name": "stderr"
        }
      ]
    },
    {
      "cell_type": "markdown",
      "metadata": {
        "id": "pXw1RjyFAQSX"
      },
      "source": [
        "**Vector hóa dữ liệu**"
      ]
    },
    {
      "cell_type": "code",
      "metadata": {
        "id": "cuqwX_3yARCi"
      },
      "source": [
        "#Sử dụng bag of words dựa vào CountVectorizer của thư viện sklearn để xử lý dữ liệu dạng category\n",
        "from sklearn.feature_extraction.text import CountVectorizer\n",
        "\n",
        "countvectorizer=CountVectorizer().fit(train_data['sub_category1'])                 \n",
        "bow_cat1_train=countvectorizer.transform(train_data['sub_category1'])\n",
        "bow_cat1_val=countvectorizer.transform(validation_data['sub_category1'])\n",
        "bow_cat1_test=countvectorizer.transform(test_data['sub_category1'])\n",
        "\n",
        "countvectorizer=CountVectorizer().fit(train_data['sub_category2'])   \n",
        "bow_cat2_train=countvectorizer.transform(train_data['sub_category2'])\n",
        "bow_cat2_val=countvectorizer.transform(validation_data['sub_category2'])\n",
        "bow_cat2_test=countvectorizer.transform(test_data['sub_category2'])\n",
        "\n",
        "countvectorizer=CountVectorizer().fit(train_data['sub_category3'])   \n",
        "bow_cat3_train=countvectorizer.transform(train_data['sub_category3'])\n",
        "bow_cat3_val=countvectorizer.transform(validation_data['sub_category3'])\n",
        "bow_cat3_test=countvectorizer.transform(test_data['sub_category3'])"
      ],
      "execution_count": 33,
      "outputs": []
    },
    {
      "cell_type": "code",
      "metadata": {
        "colab": {
          "base_uri": "https://localhost:8080/"
        },
        "id": "D2_OILpJAbgc",
        "outputId": "48ecbc4c-14c1-4af2-98c2-6b8cecfa0253"
      },
      "source": [
        "print('cat1 train shape:',bow_cat1_train.shape)\n",
        "print('cat1 validation shape:',bow_cat1_val.shape)\n",
        "print('cat1 test shape:',bow_cat1_test.shape)\n",
        "print('cat2 train shape:',bow_cat2_train.shape)\n",
        "print('cat2 validation shape:',bow_cat2_val.shape)\n",
        "print('cat2 test shape:',bow_cat2_test.shape)\n",
        "print('cat3 train shape:',bow_cat3_train.shape)\n",
        "print('cat3 validation shape:',bow_cat3_val.shape)\n",
        "print('cat3 test shape:',bow_cat3_test.shape)"
      ],
      "execution_count": 34,
      "outputs": [
        {
          "output_type": "stream",
          "text": [
            "cat1 train shape: (1333494, 11)\n",
            "cat1 validation shape: (148167, 11)\n",
            "cat1 test shape: (3460725, 11)\n",
            "cat2 train shape: (1333494, 114)\n",
            "cat2 validation shape: (148167, 114)\n",
            "cat2 test shape: (3460725, 114)\n",
            "cat3 train shape: (1333494, 859)\n",
            "cat3 validation shape: (148167, 859)\n",
            "cat3 test shape: (3460725, 859)\n"
          ],
          "name": "stdout"
        }
      ]
    },
    {
      "cell_type": "code",
      "metadata": {
        "id": "gLGtzHxbAldc"
      },
      "source": [
        "countvectorizer=CountVectorizer().fit(train_data['brand_name'])  \n",
        "bow_brand_train=countvectorizer.transform(train_data['brand_name'])\n",
        "bow_brand_val=countvectorizer.transform(validation_data['brand_name'])\n",
        "bow_brand_test=countvectorizer.transform(test_data['brand_name'])"
      ],
      "execution_count": 35,
      "outputs": []
    },
    {
      "cell_type": "code",
      "metadata": {
        "id": "Xp_8DLgsAudY"
      },
      "source": [
        "countvectorizer=CountVectorizer(min_df=10).fit(train_data['name'])  \n",
        "bow_name_train=countvectorizer.transform(train_data['name'])\n",
        "bow_name_val=countvectorizer.transform(validation_data['name'])\n",
        "bow_name_test=countvectorizer.transform(test_data['name'])"
      ],
      "execution_count": 36,
      "outputs": []
    },
    {
      "cell_type": "code",
      "metadata": {
        "id": "hXNCDBwPA5Bh"
      },
      "source": [
        "#Sử dụng tfidf để xử lý dữ liệu dạng văn bản như item_description\n",
        "\n",
        "from sklearn.feature_extraction.text import TfidfVectorizer\n",
        "\n",
        "tfidfvectorizer=TfidfVectorizer(ngram_range=(1,2),min_df=10,max_features=5000).fit(train_data['item_description']) \n",
        "tfidf_description_train=tfidfvectorizer.transform(train_data['item_description'])\n",
        "tfidf_description_val=tfidfvectorizer.transform(validation_data['item_description'])\n",
        "tfidf_description_test=tfidfvectorizer.transform(test_data['item_description'])"
      ],
      "execution_count": 37,
      "outputs": []
    },
    {
      "cell_type": "code",
      "metadata": {
        "id": "U-xu3La7iFwD"
      },
      "source": [
        "#Hàm tính dộ dài của item_description\n",
        "def description_length(data):\n",
        "  description_length=[]\n",
        "  for i in data['item_description']:\n",
        "    description_length.append(len(i.split(' '))) \n",
        "  return description_length"
      ],
      "execution_count": 38,
      "outputs": []
    },
    {
      "cell_type": "code",
      "metadata": {
        "id": "9ByMgHRviOgs"
      },
      "source": [
        "train_data['description_length']=description_length(train_data)\n",
        "validation_data['description_length']=description_length(validation_data)\n",
        "test_data['description_length']=description_length(test_data)"
      ],
      "execution_count": 39,
      "outputs": []
    },
    {
      "cell_type": "code",
      "metadata": {
        "colab": {
          "base_uri": "https://localhost:8080/",
          "height": 622
        },
        "id": "MhIsmFXHiWgF",
        "outputId": "43546222-b957-4005-bd0f-db70902d8a7b"
      },
      "source": [
        "#Sử dụng correlation matrix để tính độ tương quan giữa các feature với feature price\n",
        "columns = list(train_data.columns)\n",
        "plt.figure(figsize = (10, 10))\n",
        "sns.heatmap(train_data[columns].corr(), annot = True, linewidth = 0.5)\n",
        "plt.show()"
      ],
      "execution_count": 40,
      "outputs": [
        {
          "output_type": "display_data",
          "data": {
            "image/png": "[encoded data removed]",
            "text/plain": [
              "<Figure size 720x720 with 2 Axes>"
            ]
          },
          "metadata": {
            "tags": [],
            "needs_background": "light"
          }
        }
      ]
    },
    {
      "cell_type": "code",
      "metadata": {
        "id": "e4Qrm3yRklwT"
      },
      "source": [
        "#Scale description_length về dạng (-1,1)\n",
        "\n",
        "from sklearn.preprocessing import StandardScaler\n",
        "\n",
        "scaler = StandardScaler().fit(np.array(train_data['description_length']).reshape(-1,1))  \n",
        "train_des_length=scaler.transform(np.array(train_data['description_length']).reshape(-1,1))\n",
        "val_des_length=scaler.transform(np.array(validation_data['description_length']).reshape(-1,1))\n",
        "test_des_length=scaler.transform(np.array(test_data['description_length']).reshape(-1,1))"
      ],
      "execution_count": 41,
      "outputs": []
    },
    {
      "cell_type": "code",
      "metadata": {
        "colab": {
          "base_uri": "https://localhost:8080/"
        },
        "id": "wRdRFdOSBCXh",
        "outputId": "7aa6a5bf-f0a6-4400-f694-9e01ede2f397"
      },
      "source": [
        "#Đưa hai feature item_condition_id và shipping về dạng ma trận thưa\n",
        "from scipy.sparse import csr_matrix\n",
        "\n",
        "features_train = csr_matrix(pd.get_dummies(train_data[['item_condition_id', 'shipping']],sparse=True).values)\n",
        "features_val = csr_matrix(pd.get_dummies(validation_data[['item_condition_id', 'shipping']],sparse=True).values)\n",
        "features_test = csr_matrix(pd.get_dummies(test_data[['item_condition_id', 'shipping']],sparse=True).values)\n",
        "print(features_train.shape)\n",
        "print(features_val.shape)\n",
        "print(features_test.shape)"
      ],
      "execution_count": 42,
      "outputs": [
        {
          "output_type": "stream",
          "text": [
            "(1333494, 2)\n",
            "(148167, 2)\n",
            "(3460725, 2)\n"
          ],
          "name": "stdout"
        }
      ]
    },
    {
      "cell_type": "code",
      "metadata": {
        "colab": {
          "base_uri": "https://localhost:8080/"
        },
        "id": "_ZDtUNbpB4YH",
        "outputId": "e701b8d9-cd50-4e2f-8635-d95177829127"
      },
      "source": [
        "#Kết hợp tất cả các feature trong tập train,validation và test\n",
        "from scipy.sparse import hstack\n",
        "X_train=hstack((bow_cat1_train,bow_cat2_train,bow_cat3_train,bow_brand_train,bow_name_train,tfidf_description_train,features_train,train_des_length)).tocsr()\n",
        "X_val=hstack((bow_cat1_val,bow_cat2_val,bow_cat3_val,bow_brand_val,bow_name_val,tfidf_description_val,features_val,val_des_length)).tocsr()\n",
        "X_test=hstack((bow_cat1_test,bow_cat2_test,bow_cat3_test,bow_brand_test,bow_name_test,tfidf_description_test,features_test,test_des_length)).tocsr()\n",
        "print(\"Shape of train data: \",X_train.shape) \n",
        "print(\"Shape of cv data: \",X_val.shape)   \n",
        "print(\"Shape of test data: \",X_test.shape)   "
      ],
      "execution_count": 43,
      "outputs": [
        {
          "output_type": "stream",
          "text": [
            "Shape of train data:  (1333494, 27427)\n",
            "Shape of cv data:  (148167, 27427)\n",
            "Shape of test data:  (3460725, 27427)\n"
          ],
          "name": "stdout"
        }
      ]
    },
    {
      "cell_type": "markdown",
      "metadata": {
        "id": "QI2mulDwB76i"
      },
      "source": [
        "#**Mô hình huấn luyện**"
      ]
    },
    {
      "cell_type": "markdown",
      "metadata": {
        "id": "E40qAaG4AY-X"
      },
      "source": [
        "**Linear regression**"
      ]
    },
    {
      "cell_type": "code",
      "metadata": {
        "id": "p6KnmjvKK9zP"
      },
      "source": [
        "#Sử dụng Linear regression để huấn luyện với hàm loss là rmsle và độ đo R-Squared \n",
        "\n",
        "from sklearn.linear_model import LinearRegression\n",
        "from sklearn.metrics import mean_squared_error\n",
        "from sklearn.metrics import mean_squared_log_error\n",
        "\n",
        "linearregression=LinearRegression(normalize=True)\n",
        "linearregression.fit(X_train,train_data['log_prices'])  \n",
        "ytrain_predict=linearregression.predict(X_train)\n",
        "yval_predict=linearregression.predict(X_val)\n",
        "train_error=np.sqrt(mean_squared_error(train_data['log_prices'],ytrain_predict))\n",
        "val_error=np.sqrt(mean_squared_error(validation_data['log_prices'],yval_predict))\n",
        "#Ở đây RMSLE được tính bởi căn bậc hai hàm mean squared error \n",
        "#Nguồn https://www.kaggle.com/questions-and-answers/60012"
      ],
      "execution_count": 44,
      "outputs": []
    },
    {
      "cell_type": "code",
      "metadata": {
        "id": "Vd7b8Yl3uCWL"
      },
      "source": [
        "from sklearn.metrics import r2_score\n",
        "\n",
        "train_r2_score = r2_score(train_data['log_prices'], ytrain_predict)\n",
        "val_r2_score = r2_score(validation_data['log_prices'], yval_predict)"
      ],
      "execution_count": 45,
      "outputs": []
    },
    {
      "cell_type": "code",
      "metadata": {
        "id": "VHHrwVclo2Wn"
      },
      "source": [
        "#Bảng hiển thị kết quả sau khi train ở hai tập train và validation\n",
        "from prettytable import PrettyTable\n",
        "\n",
        "linear_table=PrettyTable()\n",
        "linear_table.field_names=['Score','Train','Validation']\n",
        "linear_table.add_row(['RMSLE',train_error,val_error])\n",
        "linear_table.add_row(['R2 Score',train_r2_score,val_r2_score])\n",
        "print(linear_table)"
      ],
      "execution_count": 46,
      "outputs": []
    },
    {
      "cell_type": "code",
      "metadata": {
        "id": "ZWj9ecvrB-jC"
      },
      "source": [
        "#Bảng hiện thị độ chính xác của model\n",
        "%matplotlib inline\n",
        "\n",
        "fig, ax = plt.subplots(1, 2,figsize=(16, 8))\n",
        "\n",
        "sns.regplot(ax=ax[0],x=train_data['log_prices'][40:80],y=ytrain_predict[40:80],marker=\"+\")\n",
        "\n",
        "\n",
        "sns.regplot(ax=ax[1],x=validation_data['log_prices'][40:80],y=yval_predict[40:80],color=\"g\",marker=\"+\")\n",
        "\n"
      ],
      "execution_count": 47,
      "outputs": []
    },
    {
      "cell_type": "markdown",
      "metadata": {
        "id": "vJjwyVk6Ad7t"
      },
      "source": [
        "**Ridge regression**"
      ]
    },
    {
      "cell_type": "code",
      "metadata": {
        "id": "io1M-xfIQNQj"
      },
      "source": [
        "#Sử dụng ridgeCV để tìm hệ số alpha tốt nhất cho model ,sau đó sử dụng hàm Ridge để huần luyện với alpha đó và các tham số solver khác nhau\n",
        "from sklearn.linear_model import RidgeCV\n",
        "\n",
        "ridge_cv = RidgeCV(alphas=(0.01, 0.1, 1.0, 10.0), cv=3)\n",
        "ridge_cv.fit(X_train, train_data['log_prices'])"
      ],
      "execution_count": 48,
      "outputs": []
    },
    {
      "cell_type": "code",
      "metadata": {
        "id": "93pIRUpmXg-f"
      },
      "source": [
        "print(ridge_cv.alpha_)"
      ],
      "execution_count": 49,
      "outputs": []
    },
    {
      "cell_type": "code",
      "metadata": {
        "id": "97r2-Wq56FqK"
      },
      "source": [
        "yval_predict_ridgecv = ridge_cv.predict(X_val)\n",
        "ytrain_predict_ridgecv = ridge_cv.predict(X_train)"
      ],
      "execution_count": 50,
      "outputs": []
    },
    {
      "cell_type": "code",
      "metadata": {
        "id": "1eenvJkL6ZfN"
      },
      "source": [
        "from sklearn.metrics import mean_squared_error\n",
        "\n",
        "val_ridge_RMSLE = np.sqrt(mean_squared_error(validation_data['log_prices'],yval_predict_ridgecv))\n",
        "train_ridge_RMSLE = np.sqrt(mean_squared_error(train_data['log_prices'],ytrain_predict_ridgecv))"
      ],
      "execution_count": 51,
      "outputs": []
    },
    {
      "cell_type": "code",
      "metadata": {
        "id": "kEmfSRXH672w"
      },
      "source": [
        "from prettytable import PrettyTable\n",
        "\n",
        "ridge_cv_table=PrettyTable()\n",
        "ridge_cv_table.field_names=['Score','Train','Validation']\n",
        "ridge_cv_table.add_row(['RMSLE',train_ridge_RMSLE,val_ridge_RMSLE])\n",
        "ridge_cv_table.add_row(['Best Score',ridge_cv.score(X_train,train_data['log_prices']),ridge_cv.score(X_val,validation_data['log_prices'])])\n",
        "print(ridge_cv_table)"
      ],
      "execution_count": 52,
      "outputs": []
    },
    {
      "cell_type": "code",
      "metadata": {
        "id": "ZsskT-PSYBNW"
      },
      "source": [
        "#Huần luyện với alpha = 10 và solver = sag\n",
        "from sklearn.linear_model import Ridge\n",
        "\n",
        "ridge = Ridge(alpha=10,solver='sag',fit_intercept=False)\n",
        "\n",
        "ridge.fit(X_train, train_data['log_prices'])\n",
        "ytrain_predict_ridge=ridge.predict(X_train)\n",
        "yval_predict_ridge=ridge.predict(X_val)\n",
        "train_error_ridge = np.sqrt(mean_squared_error(train_data['log_prices'], ytrain_predict_ridge))\n",
        "val_error_ridge=np.sqrt(mean_squared_error(validation_data['log_prices'],yval_predict_ridge))"
      ],
      "execution_count": 53,
      "outputs": []
    },
    {
      "cell_type": "code",
      "metadata": {
        "id": "-ds5Mcc3AA1f"
      },
      "source": [
        "ridge_table=PrettyTable()\n",
        "ridge_table.field_names=['Score','Train','Validation']\n",
        "ridge_table.add_row(['RMSLE',train_error_ridge,val_error_ridge])\n",
        "ridge_table.add_row(['Best Score',ridge.score(X_train,train_data['log_prices']),ridge.score(X_val,validation_data['log_prices'])])\n",
        "print(ridge_table)"
      ],
      "execution_count": 54,
      "outputs": []
    },
    {
      "cell_type": "markdown",
      "metadata": {
        "id": "fWj-MFh8BVv_"
      },
      "source": [
        "**Dự đoán trên tập submission**"
      ]
    },
    {
      "cell_type": "code",
      "metadata": {
        "id": "L4wAy_qK_BQG"
      },
      "source": [
        "ytest_predict_ridge=ridge_cv.predict(X_test)"
      ],
      "execution_count": null,
      "outputs": []
    },
    {
      "cell_type": "code",
      "metadata": {
        "id": "7dQAVUR3BCed"
      },
      "source": [
        "submission_data = pd.read_csv('sample_submission_stg2.csv')\n",
        "submission_data.head(5)"
      ],
      "execution_count": null,
      "outputs": []
    },
    {
      "cell_type": "code",
      "metadata": {
        "id": "DMKjItucBGh1"
      },
      "source": [
        "submission_data.shape"
      ],
      "execution_count": null,
      "outputs": []
    },
    {
      "cell_type": "code",
      "metadata": {
        "id": "Pbd20poXBJIl"
      },
      "source": [
        "submission_data.loc[:, 'price'] = np.expm1(ytest_predict_ridge)"
      ],
      "execution_count": null,
      "outputs": []
    },
    {
      "cell_type": "code",
      "metadata": {
        "id": "lCU8uSoWBQWN"
      },
      "source": [
        "submission_data.head(5)"
      ],
      "execution_count": null,
      "outputs": []
    },
    {
      "cell_type": "code",
      "metadata": {
        "id": "Hu8QlzchBRjJ"
      },
      "source": [
        "submission_data.to_csv('submission.csv', index=False)"
      ],
      "execution_count": null,
      "outputs": []
    }
  ]
}